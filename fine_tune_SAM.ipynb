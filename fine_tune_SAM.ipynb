{
  "cells": [
    {
      "cell_type": "markdown",
      "metadata": {
        "id": "view-in-github",
        "colab_type": "text"
      },
      "source": [
        "<a href=\"https://colab.research.google.com/github/AnanyaBhalla/GC-SAM/blob/main/fine_tune_SAM.ipynb\" target=\"_parent\"><img src=\"https://colab.research.google.com/assets/colab-badge.svg\" alt=\"Open In Colab\"/></a>"
      ]
    },
    {
      "cell_type": "markdown",
      "metadata": {
        "id": "ekbl6wXaNLxT"
      },
      "source": [
        "https://youtu.be/83tnWs_YBRQ"
      ]
    },
    {
      "cell_type": "markdown",
      "metadata": {
        "id": "VCm5afA7UaQu"
      },
      "source": [
        "**This notebook walks you through the process of fine-tuning a Segment Anything Model (SAM) using custom data**.\n",
        "<p>\n",
        "\n",
        "**What is SAM?**\n",
        "<br>\n",
        "SAM is an image segmentation model developed by Meta AI. It was trained over 11 billion segmentation masks from millions of images. It is designed to take human prompts, in the form of points, bounding boxes or even a text prompt describing what should be segmented.\n",
        "<p>\n",
        "\n",
        "**What are the key features of SAM?**\n",
        "<br>\n",
        "\n",
        "* **Zero-shot generalization:** SAM can be used to segment objects that it has never seen before, without the need for additional training.\n",
        "\n",
        "* **Flexible prompting:** SAM can be prompted with a variety of input, including points, boxes, and text descriptions.\n",
        "\n",
        "* **Real-time mask computation:** SAM can generate masks for objects in real time. This makes SAM ideal for applications where it is necessary to segment objects quickly, such as autonomous driving and robotics.\n",
        "\n",
        "* **Ambiguity awareness:** SAM is aware of the ambiguity of objects in images. This means that SAM can generate masks for objects even when they are partially occluded or overlapping with other objects.\n",
        "\n",
        "<p>\n",
        "\n",
        "**How does SAM work?**\n",
        "<br>\n",
        "SAM works by first encoding the image into a high-dimensional vector representation. The prompt is encoded into a separate vector representation. The two vector representations are then combined and passed to a mask decoder, which outputs a mask for the object specified by the prompt.\n",
        "<p>\n",
        "The image encoder is a vision transformer (ViT-H) model, which is a large language model that has been pre-trained on a massive dataset of images. The prompt encoder is a simple text encoder that converts the input prompt into a vector representation. The mask decoder is a lightweight transformer model that predicts the object mask from the image and prompt embeddings.\n",
        "<p>\n",
        "\n",
        "**SAM paper:** https://arxiv.org/pdf/2304.02643.pdf​\n",
        "<p>\n",
        "\n",
        "**Link to the dataset used in this demonstration:** https://www.epfl.ch/labs/cvlab/data/data-em/\n",
        "<br>Courtesy: EPFL\n",
        "<p>\n",
        "\n",
        "This code has been heavily adapted from this notebook but modified to work with a truly custom dataset where we have a bunch of images and binary masks.\n",
        "https://github.com/NielsRogge/Transformers-Tutorials/blob/master/SAM/Fine_tune_SAM_(segment_anything)_on_a_custom_dataset.ipynb\n",
        "\n"
      ]
    },
    {
      "cell_type": "code",
      "source": [
        "# If you're using Google Colab, you can mount your folder with the images onto Google Drive\n",
        "from google.colab import drive\n",
        "drive.mount('/content/drive')"
      ],
      "metadata": {
        "colab": {
          "base_uri": "https://localhost:8080/"
        },
        "id": "YqEldlxSQcgL",
        "outputId": "c4a16b35-adcb-4cd7-be47-345c55f646a3"
      },
      "execution_count": 1,
      "outputs": [
        {
          "output_type": "stream",
          "name": "stdout",
          "text": [
            "Drive already mounted at /content/drive; to attempt to forcibly remount, call drive.mount(\"/content/drive\", force_remount=True).\n"
          ]
        }
      ]
    },
    {
      "cell_type": "code",
      "execution_count": null,
      "metadata": {
        "id": "NSkTx6N-Mtyd",
        "outputId": "39ad74d6-dbe9-4196-cde6-8411a972b129",
        "colab": {
          "base_uri": "https://localhost:8080/"
        }
      },
      "outputs": [
        {
          "output_type": "stream",
          "name": "stdout",
          "text": [
            "Collecting git+https://github.com/facebookresearch/segment-anything.git\n",
            "  Cloning https://github.com/facebookresearch/segment-anything.git to /tmp/pip-req-build-j0vckv87\n",
            "  Running command git clone --filter=blob:none --quiet https://github.com/facebookresearch/segment-anything.git /tmp/pip-req-build-j0vckv87\n",
            "  Resolved https://github.com/facebookresearch/segment-anything.git to commit 6fdee8f2727f4506cfbbe553e23b895e27956588\n",
            "  Preparing metadata (setup.py) ... \u001b[?25l\u001b[?25hdone\n",
            "  Installing build dependencies ... \u001b[?25l\u001b[?25hdone\n",
            "  Getting requirements to build wheel ... \u001b[?25l\u001b[?25hdone\n",
            "  Preparing metadata (pyproject.toml) ... \u001b[?25l\u001b[?25hdone\n",
            "Requirement already satisfied: datasets in /usr/local/lib/python3.10/dist-packages (2.19.1)\n",
            "Requirement already satisfied: filelock in /usr/local/lib/python3.10/dist-packages (from datasets) (3.14.0)\n",
            "Requirement already satisfied: numpy>=1.17 in /usr/local/lib/python3.10/dist-packages (from datasets) (1.25.2)\n",
            "Requirement already satisfied: pyarrow>=12.0.0 in /usr/local/lib/python3.10/dist-packages (from datasets) (14.0.2)\n",
            "Requirement already satisfied: pyarrow-hotfix in /usr/local/lib/python3.10/dist-packages (from datasets) (0.6)\n",
            "Requirement already satisfied: dill<0.3.9,>=0.3.0 in /usr/local/lib/python3.10/dist-packages (from datasets) (0.3.8)\n",
            "Requirement already satisfied: pandas in /usr/local/lib/python3.10/dist-packages (from datasets) (2.0.3)\n",
            "Requirement already satisfied: requests>=2.19.0 in /usr/local/lib/python3.10/dist-packages (from datasets) (2.31.0)\n",
            "Requirement already satisfied: tqdm>=4.62.1 in /usr/local/lib/python3.10/dist-packages (from datasets) (4.66.4)\n",
            "Requirement already satisfied: xxhash in /usr/local/lib/python3.10/dist-packages (from datasets) (3.4.1)\n",
            "Requirement already satisfied: multiprocess in /usr/local/lib/python3.10/dist-packages (from datasets) (0.70.16)\n",
            "Requirement already satisfied: fsspec[http]<=2024.3.1,>=2023.1.0 in /usr/local/lib/python3.10/dist-packages (from datasets) (2023.6.0)\n",
            "Requirement already satisfied: aiohttp in /usr/local/lib/python3.10/dist-packages (from datasets) (3.9.5)\n",
            "Requirement already satisfied: huggingface-hub>=0.21.2 in /usr/local/lib/python3.10/dist-packages (from datasets) (0.23.0)\n",
            "Requirement already satisfied: packaging in /usr/local/lib/python3.10/dist-packages (from datasets) (24.0)\n",
            "Requirement already satisfied: pyyaml>=5.1 in /usr/local/lib/python3.10/dist-packages (from datasets) (6.0.1)\n",
            "Requirement already satisfied: aiosignal>=1.1.2 in /usr/local/lib/python3.10/dist-packages (from aiohttp->datasets) (1.3.1)\n",
            "Requirement already satisfied: attrs>=17.3.0 in /usr/local/lib/python3.10/dist-packages (from aiohttp->datasets) (23.2.0)\n",
            "Requirement already satisfied: frozenlist>=1.1.1 in /usr/local/lib/python3.10/dist-packages (from aiohttp->datasets) (1.4.1)\n",
            "Requirement already satisfied: multidict<7.0,>=4.5 in /usr/local/lib/python3.10/dist-packages (from aiohttp->datasets) (6.0.5)\n",
            "Requirement already satisfied: yarl<2.0,>=1.0 in /usr/local/lib/python3.10/dist-packages (from aiohttp->datasets) (1.9.4)\n",
            "Requirement already satisfied: async-timeout<5.0,>=4.0 in /usr/local/lib/python3.10/dist-packages (from aiohttp->datasets) (4.0.3)\n",
            "Requirement already satisfied: typing-extensions>=3.7.4.3 in /usr/local/lib/python3.10/dist-packages (from huggingface-hub>=0.21.2->datasets) (4.11.0)\n"
          ]
        }
      ],
      "source": [
        "# Install the required libraries\n",
        "#SAM\n",
        "!pip install git+https://github.com/facebookresearch/segment-anything.git\n",
        "#Transformers\n",
        "!pip install -q git+https://github.com/huggingface/transformers.git\n",
        "#Datasets to prepare data and monai if you want to use special loss functions\n",
        "!pip install datasets\n",
        "!pip install -q monai\n",
        "#Patchify to divide large images into smaller patches for training. (Not necessary for smaller images)\n",
        "!pip install patchify"
      ]
    },
    {
      "cell_type": "code",
      "execution_count": null,
      "metadata": {
        "id": "aTXUX7xyCEGT"
      },
      "outputs": [],
      "source": [
        "import numpy as np\n",
        "import matplotlib.pyplot as plt\n",
        "import tifffile\n",
        "from patchify import patchify  #Only to handle large images\n",
        "import random\n",
        "from scipy import ndimage\n",
        "from PIL import Image\n",
        "from transformers import SamModel, SamConfig, SamProcessor\n",
        "from tqdm import tqdm\n",
        "from statistics import mean\n",
        "from datasets import Dataset\n",
        "import torch\n",
        "from torch.nn.functional import threshold, normalize\n",
        "from torch.optim import Adam\n",
        "import monai\n",
        "from torch.utils.data import DataLoader"
      ]
    },
    {
      "cell_type": "markdown",
      "metadata": {
        "id": "SH5wSwpVf51x"
      },
      "source": [
        "Load data into numpy arrays. Here we are importing a tiff stack containing 165 images of size 768x1024. You can use glob to import multiple images from a directory or any other method. The goal is to end up with a numpy array for images and an array for masks."
      ]
    },
    {
      "cell_type": "code",
      "execution_count": null,
      "metadata": {
        "id": "2B2KjUVkGMYM"
      },
      "outputs": [],
      "source": [
        "# Load tiff stack images and masks - EPFL dataset has 165 large images as tiff image stack\n",
        "large_images = tifffile.imread(\"training_images.tif\")\n",
        "large_masks = tifffile.imread(\"training_masks.tiff\")\n",
        "# Google Colab version\n",
        "large_images = tifffile.imread(\"/content/drive/MyDrive/sml/SAM/training/training_images.tif\")\n",
        "large_masks = tifffile.imread(\"/content/drive/MyDrive/sml/SAM/training/training_masks.tiff\")\n",
        "\n",
        "large_images.shape"
      ]
    },
    {
      "cell_type": "markdown",
      "metadata": {
        "id": "BE6O7-O4gO6X"
      },
      "source": [
        "Now. let us divide these large images into smaller patches for training. We can use patchify or write custom code."
      ]
    },
    {
      "cell_type": "code",
      "execution_count": null,
      "metadata": {
        "id": "tbENtOpbbb7q"
      },
      "outputs": [],
      "source": [
        "#Desired patch size for smaller images and step size.\n",
        "patch_size = 256\n",
        "step = 256"
      ]
    },
    {
      "cell_type": "code",
      "execution_count": null,
      "metadata": {
        "id": "6HwyzYG9KHqq"
      },
      "outputs": [],
      "source": [
        "all_img_patches = []\n",
        "for img in range(large_images.shape[0]):\n",
        "    large_image = large_images[img]\n",
        "    patches_img = patchify(large_image, (patch_size, patch_size), step=step)  #Step=256 for 256 patches means no overlap\n",
        "\n",
        "    for i in range(patches_img.shape[0]):\n",
        "        for j in range(patches_img.shape[1]):\n",
        "\n",
        "            single_patch_img = patches_img[i,j,:,:]\n",
        "            all_img_patches.append(single_patch_img)\n",
        "\n",
        "images = np.array(all_img_patches)\n",
        "\n",
        "#Let us do the same for masks\n",
        "all_mask_patches = []\n",
        "for img in range(large_masks.shape[0]):\n",
        "    large_mask = large_masks[img]\n",
        "    patches_mask = patchify(large_mask, (patch_size, patch_size), step=step)  #Step=256 for 256 patches means no overlap\n",
        "\n",
        "    for i in range(patches_mask.shape[0]):\n",
        "        for j in range(patches_mask.shape[1]):\n",
        "\n",
        "            single_patch_mask = patches_mask[i,j,:,:]\n",
        "            single_patch_mask = (single_patch_mask / 255.).astype(np.uint8)\n",
        "            all_mask_patches.append(single_patch_mask)\n",
        "\n",
        "masks = np.array(all_mask_patches)\n",
        "\n",
        "images.shape"
      ]
    },
    {
      "cell_type": "markdown",
      "metadata": {
        "id": "09UD2FcbTubl"
      },
      "source": [
        "Now, let us delete empty masks as they may cause issues later on during training. If a batch contains empty masks then the loss function will throw an error as it may not know how to handle empty tensors."
      ]
    },
    {
      "cell_type": "code",
      "execution_count": null,
      "metadata": {
        "id": "rtswt5WRSEJz"
      },
      "outputs": [],
      "source": [
        "# Create a list to store the indices of non-empty masks\n",
        "valid_indices = [i for i, mask in enumerate(masks) if mask.max() != 0]\n",
        "# Filter the image and mask arrays to keep only the non-empty pairs\n",
        "filtered_images = images[valid_indices]\n",
        "filtered_masks = masks[valid_indices]\n",
        "print(\"Image shape:\", filtered_images.shape)  # e.g., (num_frames, height, width, num_channels)\n",
        "print(\"Mask shape:\", filtered_masks.shape)"
      ]
    },
    {
      "cell_type": "markdown",
      "metadata": {
        "id": "4-F1P03lltYR"
      },
      "source": [
        "MODIFIED: This function converts an image from Greyscale to RGB as `transformers.py` requires 3 channels (Greyscale images only contain 1 channel)"
      ]
    },
    {
      "cell_type": "code",
      "execution_count": null,
      "metadata": {
        "id": "VF3xklslltYR"
      },
      "outputs": [],
      "source": [
        "def convert_to_rgb(image):\n",
        "    \"\"\"\n",
        "    Converts a grayscale image to RGB by duplicating the single channel across three channels.\n",
        "\n",
        "    Args:\n",
        "        image (PIL.Image): The input grayscale image.\n",
        "\n",
        "    Returns:\n",
        "        PIL.Image: The converted RGB image.\n",
        "    \"\"\"\n",
        "    if image.mode == 'L':  # Check if the image is grayscale\n",
        "        image = np.array(image)\n",
        "        image = np.stack((image,) * 3, axis=-1)  # Duplicate the single channel across three channels\n",
        "        image = Image.fromarray(image, mode='RGB')\n",
        "    return image"
      ]
    },
    {
      "cell_type": "markdown",
      "metadata": {
        "id": "Pkbouhweg9cT"
      },
      "source": [
        "Let us create a 'dataset' that serves us input images and masks for the rest of our journey."
      ]
    },
    {
      "cell_type": "code",
      "execution_count": null,
      "metadata": {
        "id": "frbMPFsoltYR"
      },
      "outputs": [],
      "source": [
        "# Convert the NumPy arrays to Pillow images and preprocess them\n",
        "dataset_dict = {\n",
        "    # MODIFIED\n",
        "    \"image\": [convert_to_rgb(Image.fromarray(img)) for img in filtered_images],\n",
        "    #\"image\": [Image.fromarray(img) for img in filtered_images],\n",
        "    \"label\": [Image.fromarray(mask) for mask in filtered_masks],\n",
        "}\n",
        "\n",
        "# Create the dataset using the datasets.Dataset class\n",
        "dataset = Dataset.from_dict(dataset_dict)\n"
      ]
    },
    {
      "cell_type": "code",
      "execution_count": null,
      "metadata": {
        "id": "KW75qC8XltYR"
      },
      "outputs": [],
      "source": [
        "# Function to print the number of channels in the first image\n",
        "def print_number_of_channels(dataset):\n",
        "    if len(dataset) > 0:\n",
        "        item = dataset[0]\n",
        "        image = item['image']\n",
        "        # Convert to NumPy array if necessary\n",
        "        if isinstance(image, Image.Image):\n",
        "            image = np.array(image)\n",
        "        num_channels = image.shape[-1] if image.ndim == 3 else 1\n",
        "        print(f\"The first image has {num_channels} channel(s)\")\n",
        "    else:\n",
        "        print(\"The dataset is empty\")\n",
        "\n",
        "# Print the number of channels for the first image in the dataset\n",
        "print_number_of_channels(dataset)"
      ]
    },
    {
      "cell_type": "code",
      "execution_count": null,
      "metadata": {
        "id": "fISBbWMRBfV3"
      },
      "outputs": [],
      "source": [
        "dataset"
      ]
    },
    {
      "cell_type": "markdown",
      "metadata": {
        "id": "NSPSMTIAhVWN"
      },
      "source": [
        "Let us make sure out images and masks (labels) are loading appropriately"
      ]
    },
    {
      "cell_type": "code",
      "execution_count": null,
      "metadata": {
        "id": "CAiRRfJhGmVs"
      },
      "outputs": [],
      "source": [
        "img_num = random.randint(0, filtered_images.shape[0]-1)\n",
        "example_image = dataset[img_num][\"image\"]\n",
        "example_mask = dataset[img_num][\"label\"]\n",
        "\n",
        "fig, axes = plt.subplots(1, 2, figsize=(10, 5))\n",
        "\n",
        "# Plot the first image on the left\n",
        "axes[0].imshow(np.array(example_image), cmap='gray')  # Assuming the first image is grayscale\n",
        "axes[0].set_title(\"Image\")\n",
        "\n",
        "# Plot the second image on the right\n",
        "axes[1].imshow(example_mask, cmap='gray')  # Assuming the second image is grayscale\n",
        "axes[1].set_title(\"Mask\")\n",
        "\n",
        "# Hide axis ticks and labels\n",
        "for ax in axes:\n",
        "    ax.set_xticks([])\n",
        "    ax.set_yticks([])\n",
        "    ax.set_xticklabels([])\n",
        "    ax.set_yticklabels([])\n",
        "\n",
        "# Display the images side by side\n",
        "plt.show()"
      ]
    },
    {
      "cell_type": "markdown",
      "metadata": {
        "id": "CffHur2PhiOJ"
      },
      "source": [
        "Get bounding boxes from masks. You can get here directly if you are working with coco style annotations where bounding boxes are captured in a JSON file."
      ]
    },
    {
      "cell_type": "code",
      "execution_count": null,
      "metadata": {
        "id": "LYmrZ9hWCpKV"
      },
      "outputs": [],
      "source": [
        "#Get bounding boxes from mask.\n",
        "def get_bounding_box(ground_truth_map):\n",
        "  # get bounding box from mask\n",
        "  y_indices, x_indices = np.where(ground_truth_map > 0)\n",
        "  x_min, x_max = np.min(x_indices), np.max(x_indices)\n",
        "  y_min, y_max = np.min(y_indices), np.max(y_indices)\n",
        "  # add perturbation to bounding box coordinates\n",
        "  H, W = ground_truth_map.shape\n",
        "  x_min = max(0, x_min - np.random.randint(0, 20))\n",
        "  x_max = min(W, x_max + np.random.randint(0, 20))\n",
        "  y_min = max(0, y_min - np.random.randint(0, 20))\n",
        "  y_max = min(H, y_max + np.random.randint(0, 20))\n",
        "  bbox = [x_min, y_min, x_max, y_max]\n",
        "\n",
        "  return bbox"
      ]
    },
    {
      "cell_type": "code",
      "execution_count": null,
      "metadata": {
        "id": "dQVNaYYbDKf6"
      },
      "outputs": [],
      "source": [
        "from torch.utils.data import Dataset\n",
        "\n",
        "class SAMDataset(Dataset):\n",
        "  \"\"\"\n",
        "  This class is used to create a dataset that serves input images and masks.\n",
        "  It takes a dataset and a processor as input and overrides the __len__ and __getitem__ methods of the Dataset class.\n",
        "  \"\"\"\n",
        "  def __init__(self, dataset, processor):\n",
        "    self.dataset = dataset\n",
        "    self.processor = processor\n",
        "\n",
        "  def __len__(self):\n",
        "    return len(self.dataset)\n",
        "\n",
        "  def __getitem__(self, idx):\n",
        "    item = self.dataset[idx]\n",
        "    image = item[\"image\"]\n",
        "    ground_truth_mask = np.array(item[\"label\"])\n",
        "\n",
        "    # get bounding box prompt\n",
        "    prompt = get_bounding_box(ground_truth_mask)\n",
        "\n",
        "    # prepare image and prompt for the model\n",
        "    inputs = self.processor(image, input_boxes=[[prompt]], return_tensors=\"pt\")\n",
        "\n",
        "    # remove batch dimension which the processor adds by default\n",
        "    inputs = {k:v.squeeze(0) for k,v in inputs.items()}\n",
        "\n",
        "    # add ground truth segmentation\n",
        "    inputs[\"ground_truth_mask\"] = ground_truth_mask\n",
        "\n",
        "    return inputs"
      ]
    },
    {
      "cell_type": "code",
      "execution_count": null,
      "metadata": {
        "id": "5IVksPItDOYg"
      },
      "outputs": [],
      "source": [
        "# Initialize the processor\n",
        "processor = SamProcessor.from_pretrained(\"facebook/sam-vit-base\")\n",
        "\n",
        "# Create an instance of the SAMDataset\n",
        "train_dataset = SAMDataset(dataset=dataset, processor=processor)\n",
        "\n",
        "example = train_dataset[0]\n",
        "for k,v in example.items():\n",
        "  print(k,v.shape)"
      ]
    },
    {
      "cell_type": "code",
      "execution_count": null,
      "metadata": {
        "id": "oAHAY4LxDYCt"
      },
      "outputs": [],
      "source": [
        "# Create a DataLoader instance for the training dataset\n",
        "train_dataloader = DataLoader(train_dataset, batch_size=2, shuffle=True, drop_last=False)\n",
        "\n",
        "batch = next(iter(train_dataloader))\n",
        "for k,v in batch.items():\n",
        "  print(k,v.shape)"
      ]
    },
    {
      "cell_type": "code",
      "execution_count": null,
      "metadata": {
        "id": "l0G55sGADaJ3"
      },
      "outputs": [],
      "source": [
        "batch[\"ground_truth_mask\"].shape"
      ]
    },
    {
      "cell_type": "code",
      "execution_count": null,
      "metadata": {
        "id": "7fUTkHq3DcVV"
      },
      "outputs": [],
      "source": [
        "# Load the model\n",
        "model = SamModel.from_pretrained(\"facebook/sam-vit-base\")\n",
        "\n",
        "# make sure we only compute gradients for mask decoder\n",
        "for name, param in model.named_parameters():\n",
        "  if name.startswith(\"vision_encoder\") or name.startswith(\"prompt_encoder\"):\n",
        "    param.requires_grad_(False)"
      ]
    },
    {
      "cell_type": "code",
      "execution_count": null,
      "metadata": {
        "id": "NUQFybjODebi"
      },
      "outputs": [],
      "source": [
        "# Initialize the optimizer and the loss function\n",
        "optimizer = Adam(model.mask_decoder.parameters(), lr=1e-5, weight_decay=0)\n",
        "#Try DiceFocalLoss, FocalLoss, DiceCELoss\n",
        "seg_loss = monai.losses.DiceCELoss(sigmoid=True, squared_pred=True, reduction='mean')"
      ]
    },
    {
      "cell_type": "code",
      "execution_count": null,
      "metadata": {
        "id": "XbD2PQlPDgFF"
      },
      "outputs": [],
      "source": [
        "#Training loop\n",
        "num_epochs = 1\n",
        "\n",
        "device = \"cuda\" if torch.cuda.is_available() else \"cpu\"\n",
        "model.to(device)\n",
        "\n",
        "model.train()\n",
        "for epoch in range(num_epochs):\n",
        "    epoch_losses = []\n",
        "    for batch in tqdm(train_dataloader):\n",
        "      # forward pass\n",
        "      outputs = model(pixel_values=batch[\"pixel_values\"].to(device),\n",
        "                      input_boxes=batch[\"input_boxes\"].to(device),\n",
        "                      multimask_output=False)\n",
        "\n",
        "      # compute loss\n",
        "      predicted_masks = outputs.pred_masks.squeeze(1)\n",
        "      ground_truth_masks = batch[\"ground_truth_mask\"].float().to(device)\n",
        "      loss = seg_loss(predicted_masks, ground_truth_masks.unsqueeze(1))\n",
        "\n",
        "      # backward pass (compute gradients of parameters w.r.t. loss)\n",
        "      optimizer.zero_grad()\n",
        "      loss.backward()\n",
        "\n",
        "      # optimize\n",
        "      optimizer.step()\n",
        "      epoch_losses.append(loss.item())\n",
        "\n",
        "    print(f'EPOCH: {epoch}')\n",
        "    print(f'Mean loss: {mean(epoch_losses)}')"
      ]
    },
    {
      "cell_type": "code",
      "execution_count": null,
      "metadata": {
        "id": "7zm89g_tbcdN"
      },
      "outputs": [],
      "source": [
        "# Save the model's state dictionary to a file\n",
        "#torch.save(model.state_dict(), \"first_model_checkpoint.pth\")\n",
        "# Colab version\n",
        "torch.save(model.state_dict(), \"/content/drive/MyDrive/sml/SAM/training/first_model_checkpoint.pth\")"
      ]
    },
    {
      "cell_type": "markdown",
      "metadata": {
        "id": "zEcD7ScIIJlt"
      },
      "source": [
        "**Inference**"
      ]
    },
    {
      "cell_type": "code",
      "execution_count": null,
      "metadata": {
        "id": "S_btfQPQcKww"
      },
      "outputs": [],
      "source": [
        "# Load the model configuration\n",
        "model_config = SamConfig.from_pretrained(\"facebook/sam-vit-base\")\n",
        "processor = SamProcessor.from_pretrained(\"facebook/sam-vit-base\")\n",
        "\n",
        "# Create an instance of the model architecture with the loaded configuration\n",
        "my_mito_model = SamModel(config=model_config)\n",
        "#Update the model by loading the weights from saved file.\n",
        "#my_mito_model.load_state_dict(torch.load(\"first_model_checkpoint.pth\"))\n",
        "# Colab version\n",
        "my_mito_model.load_state_dict(torch.load(\"/content/drive/MyDrive/sml/SAM/training/first_model_checkpoint.pth\"))"
      ]
    },
    {
      "cell_type": "code",
      "execution_count": null,
      "metadata": {
        "id": "HCF1o3BVTVic"
      },
      "outputs": [],
      "source": [
        "# set the device to cuda if available, otherwise use cpu\n",
        "device = \"cuda\" if torch.cuda.is_available() else \"cpu\"\n",
        "my_mito_model.to(device)"
      ]
    },
    {
      "cell_type": "code",
      "execution_count": null,
      "metadata": {
        "id": "c5tPMMIBeBxv"
      },
      "outputs": [],
      "source": [
        "# let's take a random training example\n",
        "idx = random.randint(0, filtered_images.shape[0]-1)\n",
        "\n",
        "# load image\n",
        "test_image = dataset[idx][\"image\"]\n",
        "\n",
        "# get box prompt based on ground truth segmentation map\n",
        "ground_truth_mask = np.array(dataset[idx][\"label\"])\n",
        "prompt = get_bounding_box(ground_truth_mask)\n",
        "\n",
        "# prepare image + box prompt for the model\n",
        "inputs = processor(test_image, input_boxes=[[prompt]], return_tensors=\"pt\")\n",
        "\n",
        "# Move the input tensor to the GPU if it's not already there\n",
        "inputs = {k: v.to(device) for k, v in inputs.items()}\n",
        "\n",
        "my_mito_model.eval()\n",
        "\n",
        "# forward pass\n",
        "with torch.no_grad():\n",
        "    outputs = my_mito_model(**inputs, multimask_output=False)\n",
        "\n",
        "# apply sigmoid\n",
        "medsam_seg_prob = torch.sigmoid(outputs.pred_masks.squeeze(1))\n",
        "# convert soft mask to hard mask\n",
        "medsam_seg_prob = medsam_seg_prob.cpu().numpy().squeeze()\n",
        "medsam_seg = (medsam_seg_prob > 0.5).astype(np.uint8)\n",
        "\n",
        "\n",
        "fig, axes = plt.subplots(1, 3, figsize=(15, 5))\n",
        "\n",
        "# Plot the first image on the left\n",
        "axes[0].imshow(np.array(test_image), cmap='gray')  # Assuming the first image is grayscale\n",
        "axes[0].set_title(\"Image\")\n",
        "\n",
        "# Plot the second image on the right\n",
        "axes[1].imshow(medsam_seg, cmap='gray')  # Assuming the second image is grayscale\n",
        "axes[1].set_title(\"Mask\")\n",
        "\n",
        "# Plot the second image on the right\n",
        "axes[2].imshow(medsam_seg_prob)  # Assuming the second image is grayscale\n",
        "axes[2].set_title(\"Probability Map\")\n",
        "\n",
        "# Hide axis ticks and labels\n",
        "for ax in axes:\n",
        "    ax.set_xticks([])\n",
        "    ax.set_yticks([])\n",
        "    ax.set_xticklabels([])\n",
        "    ax.set_yticklabels([])\n",
        "\n",
        "# Display the images side by side\n",
        "plt.show()\n"
      ]
    },
    {
      "cell_type": "markdown",
      "metadata": {
        "id": "IMlaxunPfP0h"
      },
      "source": [
        "Now, let us load a new image and segment it using our trained model. NOte that we need to provide some prompt. Since we do not know where the objects are going to be we cannot supply bounding boxes. So let us provide a grid of points as our prompt."
      ]
    },
    {
      "cell_type": "code",
      "execution_count": null,
      "metadata": {
        "id": "VN3AXZpTAW85"
      },
      "outputs": [],
      "source": [
        "#Apply a trained model on large image\n",
        "#large_test_images = tifffile.imread(\"test_images.tiff\")\n",
        "#Colab version\n",
        "large_test_images = tifffile.imread(\"/content/drive/MyDrive/sml/SAM/training/test_images.tiff\")\n",
        "\n",
        "large_test_image = large_test_images[1]\n",
        "patches = patchify(large_test_image, (256, 256), step=256)  #Step=256 for 256 patches means no overlap"
      ]
    },
    {
      "cell_type": "code",
      "execution_count": null,
      "metadata": {
        "id": "LjzkvN07fiXN"
      },
      "outputs": [],
      "source": [
        "\"\"\"\n",
        "input_points (torch.FloatTensor of shape (batch_size, num_points, 2)) —\n",
        "Input 2D spatial points, this is used by the prompt encoder to encode the prompt.\n",
        "Generally yields to much better results. The points can be obtained by passing a\n",
        "list of list of list to the processor that will create corresponding torch tensors\n",
        "of dimension 4. The first dimension is the image batch size, the second dimension\n",
        "is the point batch size (i.e. how many segmentation masks do we want the model to\n",
        "predict per input point), the third dimension is the number of points per segmentation\n",
        "mask (it is possible to pass multiple points for a single mask), and the last dimension\n",
        "is the x (vertical) and y (horizontal) coordinates of the point. If a different number\n",
        "of points is passed either for each image, or for each mask, the processor will create\n",
        "“PAD” points that will correspond to the (0, 0) coordinate, and the computation of the\n",
        "embedding will be skipped for these points using the labels.\n",
        "\n",
        "\"\"\"\n",
        "# Define the size of your array\n",
        "array_size = 256\n",
        "\n",
        "# Define the size of your grid\n",
        "grid_size = 10\n",
        "\n",
        "# Generate the grid points\n",
        "x = np.linspace(0, array_size-1, grid_size)\n",
        "y = np.linspace(0, array_size-1, grid_size)\n",
        "\n",
        "# Generate a grid of coordinates\n",
        "xv, yv = np.meshgrid(x, y)\n",
        "\n",
        "# Convert the numpy arrays to lists\n",
        "xv_list = xv.tolist()\n",
        "yv_list = yv.tolist()\n",
        "\n",
        "# Combine the x and y coordinates into a list of list of lists\n",
        "input_points = [[[int(x), int(y)] for x, y in zip(x_row, y_row)] for x_row, y_row in zip(xv_list, yv_list)]\n",
        "\n",
        "#We need to reshape our nxn grid to the expected shape of the input_points tensor\n",
        "# (batch_size, point_batch_size, num_points_per_image, 2),\n",
        "# where the last dimension of 2 represents the x and y coordinates of each point.\n",
        "#batch_size: The number of images you're processing at once.\n",
        "#point_batch_size: The number of point sets you have for each image.\n",
        "#num_points_per_image: The number of points in each set.\n",
        "input_points = torch.tensor(input_points).view(1, 1, grid_size*grid_size, 2)"
      ]
    },
    {
      "cell_type": "code",
      "execution_count": null,
      "metadata": {
        "id": "bklL6QTjfmke"
      },
      "outputs": [],
      "source": [
        "print(np.array(input_points).shape)"
      ]
    },
    {
      "cell_type": "code",
      "execution_count": null,
      "metadata": {
        "id": "hh5IldI8fo9d"
      },
      "outputs": [],
      "source": [
        "patches.shape"
      ]
    },
    {
      "cell_type": "code",
      "execution_count": null,
      "metadata": {
        "id": "ge99sIzCfqqZ"
      },
      "outputs": [],
      "source": [
        "# Select a random patch for segmentation\n",
        "\n",
        "# Compute the total number of 256x256 arrays\n",
        "#num_arrays = patches.shape[0] * patches.shape[1]\n",
        "# Select a random index\n",
        "#index = np.random.choice(num_arrays)\n",
        "# Compute the indices in the original array\n",
        "#i = index // patches.shape[1]\n",
        "#j = index % patches.shape[1]\n",
        "\n",
        "#Or pick a specific patch for study.\n",
        "i, j = 1, 2\n",
        "\n",
        "# Selected patch for segmentation\n",
        "random_array = patches[i, j]\n",
        "\n",
        "single_patch = Image.fromarray(random_array)\n",
        "# prepare image for the model\n",
        "\n",
        "# Check and reshape the single_patch to have 3 dimensions\n",
        "if single_patch.mode == 'L':  # If it's a grayscale image\n",
        "    single_patch = np.array(single_patch)\n",
        "    single_patch = np.expand_dims(single_patch, axis=-1)  # Expand dimensions to (height, width, 1)\n",
        "    single_patch = np.concatenate([single_patch] * 3, axis=-1)  # Duplicate the channel to get (height, width, 3)\n",
        "\n",
        "# Convert the array back to PIL Image for the processor\n",
        "single_patch = Image.fromarray(np.uint8(single_patch))\n",
        "\n",
        "\n",
        "#First try without providing any prompt (no bounding box or input_points)\n",
        "#inputs = processor(single_patch, return_tensors=\"pt\")\n",
        "#Now try with bounding boxes. Remember to uncomment.\n",
        "inputs = processor(single_patch, input_points=input_points, return_tensors=\"pt\")\n",
        "\n",
        "# Move the input tensor to the GPU if it's not already there\n",
        "inputs = {k: v.to(device) for k, v in inputs.items()}\n",
        "my_mito_model.eval()\n",
        "\n",
        "\n",
        "# forward pass\n",
        "with torch.no_grad():\n",
        "  outputs = my_mito_model(**inputs, multimask_output=False)\n",
        "\n",
        "# apply sigmoid\n",
        "single_patch_prob = torch.sigmoid(outputs.pred_masks.squeeze(1))\n",
        "# convert soft mask to hard mask\n",
        "single_patch_prob = single_patch_prob.cpu().numpy().squeeze()\n",
        "single_patch_prediction = (single_patch_prob > 0.5).astype(np.uint8)\n",
        "\n",
        "\n",
        "fig, axes = plt.subplots(1, 3, figsize=(15, 5))\n",
        "\n",
        "# Plot the first image on the left\n",
        "axes[0].imshow(np.array(single_patch), cmap='gray')  # Assuming the first image is grayscale\n",
        "axes[0].set_title(\"Image\")\n",
        "\n",
        "# Plot the second image on the right\n",
        "axes[1].imshow(single_patch_prob)  # Assuming the second image is grayscale\n",
        "axes[1].set_title(\"Probability Map\")\n",
        "\n",
        "# Plot the second image on the right\n",
        "axes[2].imshow(single_patch_prediction, cmap='gray')  # Assuming the second image is grayscale\n",
        "axes[2].set_title(\"Prediction\")\n",
        "\n",
        "# Hide axis ticks and labels\n",
        "for ax in axes:\n",
        "    ax.set_xticks([])\n",
        "    ax.set_yticks([])\n",
        "    ax.set_xticklabels([])\n",
        "    ax.set_yticklabels([])\n",
        "\n",
        "# Display the images side by side\n",
        "plt.show()"
      ]
    }
  ],
  "metadata": {
    "accelerator": "GPU",
    "colab": {
      "gpuType": "T4",
      "provenance": [],
      "include_colab_link": true
    },
    "kernelspec": {
      "display_name": "Python 3",
      "name": "python3"
    },
    "language_info": {
      "codemirror_mode": {
        "name": "ipython",
        "version": 3
      },
      "file_extension": ".py",
      "mimetype": "text/x-python",
      "name": "python",
      "nbconvert_exporter": "python",
      "pygments_lexer": "ipython3",
      "version": "3.11.0"
    }
  },
  "nbformat": 4,
  "nbformat_minor": 0
}