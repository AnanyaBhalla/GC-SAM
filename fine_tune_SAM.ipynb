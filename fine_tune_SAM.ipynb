{
  "cells": [
    {
      "cell_type": "markdown",
      "metadata": {
        "colab_type": "text",
        "id": "view-in-github"
      },
      "source": [
        "<a href=\"https://colab.research.google.com/github/AnanyaBhalla/GC-SAM/blob/main/fine_tune_SAM.ipynb\" target=\"_parent\"><img src=\"https://colab.research.google.com/assets/colab-badge.svg\" alt=\"Open In Colab\"/></a>"
      ]
    },
    {
      "cell_type": "markdown",
      "metadata": {
        "id": "ekbl6wXaNLxT"
      },
      "source": [
        "https://youtu.be/83tnWs_YBRQ"
      ]
    },
    {
      "cell_type": "markdown",
      "metadata": {
        "id": "VCm5afA7UaQu"
      },
      "source": [
        "**This notebook walks you through the process of fine-tuning a Segment Anything Model (SAM) using custom data**.\n",
        "<p>\n",
        "\n",
        "**What is SAM?**\n",
        "<br>\n",
        "SAM is an image segmentation model developed by Meta AI. It was trained over 11 billion segmentation masks from millions of images. It is designed to take human prompts, in the form of points, bounding boxes or even a text prompt describing what should be segmented.\n",
        "<p>\n",
        "\n",
        "**What are the key features of SAM?**\n",
        "<br>\n",
        "\n",
        "* **Zero-shot generalization:** SAM can be used to segment objects that it has never seen before, without the need for additional training.\n",
        "\n",
        "* **Flexible prompting:** SAM can be prompted with a variety of input, including points, boxes, and text descriptions.\n",
        "\n",
        "* **Real-time mask computation:** SAM can generate masks for objects in real time. This makes SAM ideal for applications where it is necessary to segment objects quickly, such as autonomous driving and robotics.\n",
        "\n",
        "* **Ambiguity awareness:** SAM is aware of the ambiguity of objects in images. This means that SAM can generate masks for objects even when they are partially occluded or overlapping with other objects.\n",
        "\n",
        "<p>\n",
        "\n",
        "**How does SAM work?**\n",
        "<br>\n",
        "SAM works by first encoding the image into a high-dimensional vector representation. The prompt is encoded into a separate vector representation. The two vector representations are then combined and passed to a mask decoder, which outputs a mask for the object specified by the prompt.\n",
        "<p>\n",
        "The image encoder is a vision transformer (ViT-H) model, which is a large language model that has been pre-trained on a massive dataset of images. The prompt encoder is a simple text encoder that converts the input prompt into a vector representation. The mask decoder is a lightweight transformer model that predicts the object mask from the image and prompt embeddings.\n",
        "<p>\n",
        "\n",
        "**SAM paper:** https://arxiv.org/pdf/2304.02643.pdf​\n",
        "<p>\n",
        "\n",
        "**Link to the dataset used in this demonstration:** https://www.epfl.ch/labs/cvlab/data/data-em/\n",
        "<br>Courtesy: EPFL\n",
        "<p>\n",
        "\n",
        "This code has been heavily adapted from this notebook but modified to work with a truly custom dataset where we have a bunch of images and binary masks.\n",
        "https://github.com/NielsRogge/Transformers-Tutorials/blob/master/SAM/Fine_tune_SAM_(segment_anything)_on_a_custom_dataset.ipynb\n",
        "\n"
      ]
    },
    {
      "cell_type": "code",
      "execution_count": null,
      "metadata": {
        "colab": {
          "base_uri": "https://localhost:8080/"
        },
        "id": "YqEldlxSQcgL",
        "outputId": "ba405c91-1be9-4598-fd89-0826d55e7b24"
      },
      "outputs": [],
      "source": [
        "# If you're using Google Colab, you can mount your folder with the images onto Google Drive\n",
        "from google.colab import drive\n",
        "drive.mount('/content/drive')"
      ]
    },
    {
      "cell_type": "code",
      "execution_count": null,
      "metadata": {
        "colab": {
          "base_uri": "https://localhost:8080/"
        },
        "id": "NSkTx6N-Mtyd",
        "outputId": "8e06b4df-642e-4aab-f082-57e2f08fd539"
      },
      "outputs": [],
      "source": [
        "# Install the required libraries\n",
        "#SAM\n",
        "!pip install git+https://github.com/facebookresearch/segment-anything.git\n",
        "#Transformers\n",
        "!pip install -q git+https://github.com/huggingface/transformers.git\n",
        "#Datasets to prepare data and monai if you want to use special loss functions\n",
        "!pip install datasets\n",
        "!pip install -q monai\n",
        "#Patchify to divide large images into smaller patches for training. (Not necessary for smaller images)\n",
        "!pip install patchify"
      ]
    },
    {
      "cell_type": "code",
      "execution_count": null,
      "metadata": {
        "id": "aTXUX7xyCEGT"
      },
      "outputs": [],
      "source": [
        "\n",
        "import os\n",
        "import numpy as np\n",
        "import matplotlib.pyplot as plt\n",
        "import tifffile\n",
        "from patchify import patchify  #Only to handle large images\n",
        "import random\n",
        "from scipy import ndimage\n",
        "from PIL import Image\n",
        "from transformers import SamModel, SamConfig, SamProcessor\n",
        "from tqdm import tqdm\n",
        "from statistics import mean\n",
        "from datasets import Dataset\n",
        "import torch\n",
        "from torch.nn.functional import threshold, normalize\n",
        "from torch.optim import Adam\n",
        "import monai\n",
        "from torch.utils.data import DataLoader\n",
        "import json\n",
        "import skimage.draw\n",
        "import skimage.io\n",
        "import matplotlib.pyplot as plt"
      ]
    },
    {
      "cell_type": "code",
      "execution_count": null,
      "metadata": {},
      "outputs": [],
      "source": [
        "# Folder paths - change the below to True or False depending on the env\n",
        "google_colab = False\n",
        "\n",
        "if google_colab:\n",
        "    training_img_path = \"/content/drive/MyDrive/sml/SAM/trial/training_images.tif\"\n",
        "    annotations_path = 'training/annotations/100cohort'\n",
        "    training_mask_path = \"/content/drive/MyDrive/sml/SAM/trial/training_masks.tiff\"\n",
        "    model_checkpoint = \"/content/drive/MyDrive/sml/SAM/trial/model_checkpoint.pth\"\n",
        "    test_img_path = \"/content/drive/MyDrive/sml/SAM/trial/test_images.tiff\"\n",
        "    '''\n",
        "else:\n",
        "    training_img_path = \"training/wsi_pngs\"\n",
        "    annotations_path = 'training/annotations/100cohort'\n",
        "    training_mask_path = 'training/masks'\n",
        "    model_checkpoint = \"model_checkpoint.pth\"\n",
        "    test_img_path = \"test_images\"\n",
        "    '''\n",
        "\n",
        "else:\n",
        "    training_img_path = \"validation_train_split/train_image\"\n",
        "    annotations_path = 'training/annotations/100cohort'\n",
        "    training_mask_path = \"validation_train_split/train_mask\"\n",
        "    model_checkpoint = \"model_checkpoint.pth\"\n",
        "    test_img_path = \"test_images\"\n",
        "\n",
        "\n",
        "patch_size = 256\n",
        "step = 256"
      ]
    },
    {
      "cell_type": "markdown",
      "metadata": {},
      "source": [
        "Pre-processing - convert json annotations to mask images"
      ]
    },
    {
      "cell_type": "code",
      "execution_count": null,
      "metadata": {},
      "outputs": [],
      "source": [
        "def create_mask(image_info, annotations, output_path, output_file_name):\n",
        "    # Create an empty mask as a numpy array\n",
        "    mask_np = np.zeros((image_info['height'], image_info['width']), dtype=np.uint16)\n",
        "\n",
        "    # Counter for the object number\n",
        "    object_number = 1\n",
        "\n",
        "    for ann in annotations:\n",
        "        if ann['type'] == \"Feature\":\n",
        "            # Extract segmentation polygon\n",
        "            for seg in ann['geometry']['coordinates']:\n",
        "                # Convert polygons to a binary mask and add it to the main mask\n",
        "                poly = np.array(seg)\n",
        "                if np.any(poly >= np.array([image_info['width'], image_info['height']])) or np.any(poly < 0):\n",
        "                    print(f\"Polygon coordinates out of bounds in {output_file_name}\")\n",
        "                    continue\n",
        "                rr, cc = skimage.draw.polygon(poly[:, 1], poly[:, 0], mask_np.shape)\n",
        "                mask_np[rr, cc] = object_number\n",
        "                object_number += 1 # We are assigning each object a unique integer value (labeled mask)\n",
        "\n",
        "    # Debug: Print non-zero values in the mask\n",
        "    non_zero_values = np.count_nonzero(mask_np)\n",
        "    print(f\"Non-zero values in the mask for {output_file_name}: {non_zero_values}\")\n",
        "\n",
        "    # Save the numpy array as a PNG file\n",
        "    mask_path = os.path.join(output_path, output_file_name.replace('.json', '.png'))\n",
        "    skimage.io.imsave(mask_path, mask_np)\n",
        "\n",
        "    print(f\"Saved mask for {output_file_name} to {mask_path}\")\n",
        "\n",
        "def load_json_annotations(annotations_path, mask_output_path, training_img_path):\n",
        "    # Ensure the output directories exist\n",
        "    if not os.path.exists(mask_output_path):\n",
        "        os.makedirs(mask_output_path)\n",
        "\n",
        "    # Iterate through all JSON files in the annotations folder\n",
        "    for json_file in os.listdir(annotations_path):\n",
        "        if json_file.endswith('.json'):\n",
        "            json_path = os.path.join(annotations_path, json_file)\n",
        "            # Load JSON annotations\n",
        "            with open(json_path, 'r') as f:\n",
        "                data = json.load(f)\n",
        "\n",
        "            annotations = data\n",
        "\n",
        "            # Find the corresponding image file\n",
        "            image_file = os.path.join(training_img_path, json_file.replace('.json', '.png'))\n",
        "            if os.path.exists(image_file):\n",
        "                image = skimage.io.imread(image_file)\n",
        "                height, width = image.shape[:2]\n",
        "\n",
        "                # Create the image_info dictionary\n",
        "                image_info = {\n",
        "                    'id': json_file.replace('.json', ''),\n",
        "                    'file_name': json_file.replace('.json', '.png'),\n",
        "                    'height': height,\n",
        "                    'width': width\n",
        "                }\n",
        "\n",
        "                # Create the masks for the given image info\n",
        "                create_mask(image_info, annotations, mask_output_path, json_file)\n",
        "            else:\n",
        "                print(f\"Image file {image_file} not found. Skipping.\")\n",
        "\n",
        "# Create masks from annotations\n",
        "load_json_annotations(annotations_path, training_mask_path, training_img_path)"
      ]
    },
    {
      "cell_type": "markdown",
      "metadata": {
        "id": "BE6O7-O4gO6X"
      },
      "source": [
        "Now. let us divide these large images into smaller patches for training. We can use patchify or write custom code."
      ]
    },
    {
      "cell_type": "code",
      "execution_count": null,
      "metadata": {
        "colab": {
          "base_uri": "https://localhost:8080/",
          "height": 339
        },
        "id": "A6SQD43MvNrD",
        "outputId": "6ca37a58-1dac-4e5f-e7c7-e9ae54abf071"
      },
      "outputs": [],
      "source": [
        "def match_image_and_mask_filenames(image_folder, mask_folder):\n",
        "    image_filenames = []\n",
        "    mask_filenames = []\n",
        "\n",
        "    for filename in os.listdir(image_folder):\n",
        "        if filename.endswith(\".png\") or filename.endswith(\".jpg\") or filename.endswith(\".tiff\") or filename.endswith(\".tif\"):\n",
        "            image_filenames.append(filename)\n",
        "\n",
        "    for filename in os.listdir(mask_folder):\n",
        "        if filename.endswith(\".png\") or filename.endswith(\".jpg\") or filename.endswith(\".tiff\") or filename.endswith(\".tif\"):\n",
        "            mask_filenames.append(filename)\n",
        "\n",
        "    matched_pairs = []\n",
        "    for image_filename in image_filenames:\n",
        "        # Find the corresponding mask filename\n",
        "        base_name = image_filename.split('_TRAIN_image')[0]\n",
        "        mask_filename = base_name + '__TRAIN_masked.png'\n",
        "        \n",
        "        if mask_filename in mask_filenames:\n",
        "            matched_pairs.append((image_filename, mask_filename))\n",
        "\n",
        "    return matched_pairs\n",
        "\n",
        "def convert_to_rgb(image):\n",
        "    \"\"\"\n",
        "    Converts a grayscale image to RGB by duplicating the single channel across three channels.\n",
        "\n",
        "    Args:\n",
        "        image (PIL.Image): The input grayscale image.\n",
        "\n",
        "    Returns:\n",
        "        PIL.Image: The converted RGB image.\n",
        "    \"\"\"\n",
        "    if image.mode == 'L':  # Check if the image is grayscale\n",
        "        image = np.array(image)\n",
        "        image = np.stack((image,) * 3, axis=-1)  # Duplicate the single channel across three channels\n",
        "        image = Image.fromarray(image, mode='RGB')\n",
        "    return image\n",
        "\n",
        "def load_and_patchify_images_and_masks(image_folder, mask_folder, patch_size, step):\n",
        "    images = []\n",
        "    masks = []\n",
        "    matched_pairs = match_image_and_mask_filenames(image_folder, mask_folder)\n",
        "\n",
        "    for image_filename, mask_filename in matched_pairs:\n",
        "        # Load and patchify image\n",
        "        img_path = os.path.join(image_folder, image_filename)\n",
        "        if img_path.endswith(\".png\") or img_path.endswith(\".jpg\"):\n",
        "            img = Image.open(img_path)\n",
        "            img = convert_to_rgb(img)  # Convert to RGB if grayscale\n",
        "            img = np.array(img)\n",
        "        elif img_path.endswith(\".tiff\") or img_path.endswith(\".tif\"):\n",
        "            img = tifffile.imread(img_path)\n",
        "            if img.ndim == 2:  # If the TIFF image is grayscale\n",
        "                img = np.stack((img,) * 3, axis=-1)  # Convert to RGB\n",
        "            elif img.ndim == 3 and img.shape[2] == 1:  # If the TIFF image is single channel\n",
        "                img = np.squeeze(img, axis=2)\n",
        "                img = np.stack((img,) * 3, axis=-1)  # Convert to RGB\n",
        "        else:\n",
        "            continue\n",
        "\n",
        "        patches_img = patchify(img, (patch_size, patch_size, 3), step=step)  # Ensure RGB output\n",
        "        patches_img = patches_img.reshape(-1, patch_size, patch_size, 3)  # Reshape to remove singleton dimensions\n",
        "        images.extend(patches_img)\n",
        "\n",
        "        # Load and patchify mask\n",
        "        mask_path = os.path.join(mask_folder, mask_filename)\n",
        "        if mask_path.endswith(\".png\") or mask_path.endswith(\".jpg\"):\n",
        "            mask = Image.open(mask_path).convert(\"L\")\n",
        "            mask = np.array(mask)\n",
        "        elif mask_path.endswith(\".tiff\") or mask_path.endswith(\".tif\"):\n",
        "            mask = tifffile.imread(mask_path)\n",
        "            if mask.ndim == 3 and mask.shape[2] == 1:\n",
        "                mask = np.squeeze(mask, axis=2)\n",
        "        else:\n",
        "            continue\n",
        "\n",
        "        mask = np.expand_dims(mask, axis=-1)  # Ensure mask has a channel dimension\n",
        "\n",
        "        patches_mask = patchify(mask, (patch_size, patch_size, 1), step=step)  # Assume single-channel mask\n",
        "        patches_mask = patches_mask.reshape(-1, patch_size, patch_size, 1)  # Reshape to remove singleton dimensions\n",
        "        masks.extend(patches_mask)\n",
        "\n",
        "    return np.array(images), np.array(masks)\n",
        "\n",
        "# Load and patchify images and masks\n",
        "images, masks = load_and_patchify_images_and_masks(training_img_path, training_mask_path, patch_size, step)\n",
        "print(f\"Image patches shape: {images.shape}\")\n",
        "print(f\"Mask patches shape: {masks.shape}\")"
      ]
    },
    {
      "cell_type": "markdown",
      "metadata": {
        "id": "09UD2FcbTubl"
      },
      "source": [
        "Now, let us delete empty masks as they may cause issues later on during training. If a batch contains empty masks then the loss function will throw an error as it may not know how to handle empty tensors."
      ]
    },
    {
      "cell_type": "code",
      "execution_count": null,
      "metadata": {
        "id": "rtswt5WRSEJz"
      },
      "outputs": [],
      "source": [
        "# Create a list to store the indices of non-empty masks\n",
        "valid_indices = [i for i, mask in enumerate(masks) if mask.max() != 0]\n",
        "# Filter the image and mask arrays to keep only the non-empty pairs\n",
        "filtered_images = images[valid_indices]\n",
        "filtered_masks = masks[valid_indices]\n",
        "print(\"Image shape:\", filtered_images.shape)  # e.g., (num_frames, height, width, num_channels)\n",
        "print(\"Mask shape:\", filtered_masks.shape)"
      ]
    },
    {
      "cell_type": "markdown",
      "metadata": {
        "id": "Pkbouhweg9cT"
      },
      "source": [
        "Let us create a 'dataset' that serves us input images and masks for the rest of our journey."
      ]
    },
    {
      "cell_type": "code",
      "execution_count": null,
      "metadata": {},
      "outputs": [],
      "source": [
        "# Convert the NumPy arrays to Pillow images and preprocess them\n",
        "dataset_dict = {\n",
        "    \"image\": [Image.fromarray(img) for img in filtered_images],\n",
        "    \"label\": [Image.fromarray(mask.squeeze()) for mask in filtered_masks],  # Use squeeze to remove the singleton dimension\n",
        "}\n",
        "\n",
        "# Create the dataset using the datasets.Dataset class\n",
        "dataset = Dataset.from_dict(dataset_dict)"
      ]
    },
    {
      "cell_type": "code",
      "execution_count": null,
      "metadata": {
        "id": "KW75qC8XltYR"
      },
      "outputs": [],
      "source": [
        "# Function to print the number of channels in the first image\n",
        "def print_number_of_channels(dataset):\n",
        "    if len(dataset) > 0:\n",
        "        item = dataset[0]\n",
        "        image = item['image']\n",
        "        # Convert to NumPy array if necessary\n",
        "        if isinstance(image, Image.Image):\n",
        "            image = np.array(image)\n",
        "        num_channels = image.shape[-1] if image.ndim == 3 else 1\n",
        "        print(f\"The first image has {num_channels} channel(s)\")\n",
        "    else:\n",
        "        print(\"The dataset is empty\")\n",
        "\n",
        "# Print the number of channels for the first image in the dataset\n",
        "print_number_of_channels(dataset)"
      ]
    },
    {
      "cell_type": "code",
      "execution_count": null,
      "metadata": {
        "id": "fISBbWMRBfV3"
      },
      "outputs": [],
      "source": [
        "dataset"
      ]
    },
    {
      "cell_type": "markdown",
      "metadata": {
        "id": "NSPSMTIAhVWN"
      },
      "source": [
        "Let us make sure out images and masks (labels) are loading appropriately"
      ]
    },
    {
      "cell_type": "code",
      "execution_count": null,
      "metadata": {
        "id": "CAiRRfJhGmVs"
      },
      "outputs": [],
      "source": [
        "img_num = random.randint(0, filtered_images.shape[0]-1)\n",
        "example_image = dataset[img_num][\"image\"]\n",
        "example_mask = dataset[img_num][\"label\"]\n",
        "\n",
        "fig, axes = plt.subplots(1, 2, figsize=(10, 5))\n",
        "\n",
        "# Plot the first image on the left\n",
        "axes[0].imshow(np.array(example_image), cmap='gray')  # Assuming the first image is grayscale\n",
        "axes[0].set_title(\"Image\")\n",
        "\n",
        "# Plot the second image on the right\n",
        "axes[1].imshow(example_mask, cmap='gray')  # Assuming the second image is grayscale\n",
        "axes[1].set_title(\"Mask\")\n",
        "\n",
        "# Hide axis ticks and labels\n",
        "for ax in axes:\n",
        "    ax.set_xticks([])\n",
        "    ax.set_yticks([])\n",
        "    ax.set_xticklabels([])\n",
        "    ax.set_yticklabels([])\n",
        "\n",
        "# Display the images side by side\n",
        "plt.show()"
      ]
    },
    {
      "cell_type": "markdown",
      "metadata": {
        "id": "CffHur2PhiOJ"
      },
      "source": [
        "Get bounding boxes from masks. You can get here directly if you are working with coco style annotations where bounding boxes are captured in a JSON file."
      ]
    },
    {
      "cell_type": "code",
      "execution_count": null,
      "metadata": {
        "id": "LYmrZ9hWCpKV"
      },
      "outputs": [],
      "source": [
        "#Get bounding boxes from mask.\n",
        "def get_bounding_box(ground_truth_map):\n",
        "  # get bounding box from mask\n",
        "  y_indices, x_indices = np.where(ground_truth_map > 0)\n",
        "  x_min, x_max = np.min(x_indices), np.max(x_indices)\n",
        "  y_min, y_max = np.min(y_indices), np.max(y_indices)\n",
        "  # add perturbation to bounding box coordinates\n",
        "  H, W = ground_truth_map.shape\n",
        "  x_min = max(0, x_min - np.random.randint(0, 20))\n",
        "  x_max = min(W, x_max + np.random.randint(0, 20))\n",
        "  y_min = max(0, y_min - np.random.randint(0, 20))\n",
        "  y_max = min(H, y_max + np.random.randint(0, 20))\n",
        "  bbox = [x_min, y_min, x_max, y_max]\n",
        "\n",
        "  return bbox"
      ]
    },
    {
      "cell_type": "code",
      "execution_count": null,
      "metadata": {
        "id": "dQVNaYYbDKf6"
      },
      "outputs": [],
      "source": [
        "from torch.utils.data import Dataset\n",
        "\n",
        "class SAMDataset(Dataset):\n",
        "  \"\"\"\n",
        "  This class is used to create a dataset that serves input images and masks.\n",
        "  It takes a dataset and a processor as input and overrides the __len__ and __getitem__ methods of the Dataset class.\n",
        "  \"\"\"\n",
        "  def __init__(self, dataset, processor):\n",
        "    self.dataset = dataset\n",
        "    self.processor = processor\n",
        "\n",
        "  def __len__(self):\n",
        "    return len(self.dataset)\n",
        "\n",
        "  def __getitem__(self, idx):\n",
        "    item = self.dataset[idx]\n",
        "    image = item[\"image\"]\n",
        "    ground_truth_mask = np.array(item[\"label\"])\n",
        "\n",
        "    # get bounding box prompt\n",
        "    prompt = get_bounding_box(ground_truth_mask)\n",
        "\n",
        "    # prepare image and prompt for the model\n",
        "    inputs = self.processor(image, input_boxes=[[prompt]], return_tensors=\"pt\")\n",
        "\n",
        "    # remove batch dimension which the processor adds by default\n",
        "    inputs = {k:v.squeeze(0) for k,v in inputs.items()}\n",
        "\n",
        "    # add ground truth segmentation\n",
        "    inputs[\"ground_truth_mask\"] = ground_truth_mask\n",
        "\n",
        "    return inputs"
      ]
    },
    {
      "cell_type": "code",
      "execution_count": null,
      "metadata": {
        "id": "5IVksPItDOYg"
      },
      "outputs": [],
      "source": [
        "# Initialize the processor\n",
        "processor = SamProcessor.from_pretrained(\"facebook/sam-vit-base\")\n",
        "\n",
        "# Create an instance of the SAMDataset\n",
        "train_dataset = SAMDataset(dataset=dataset, processor=processor)\n",
        "\n",
        "example = train_dataset[0]\n",
        "for k,v in example.items():\n",
        "  print(k,v.shape)"
      ]
    },
    {
      "cell_type": "code",
      "execution_count": null,
      "metadata": {
        "id": "oAHAY4LxDYCt"
      },
      "outputs": [],
      "source": [
        "# Create a DataLoader instance for the training dataset\n",
        "train_dataloader = DataLoader(train_dataset, batch_size=2, shuffle=True, drop_last=False)\n",
        "\n",
        "batch = next(iter(train_dataloader))\n",
        "for k,v in batch.items():\n",
        "  print(k,v.shape)"
      ]
    },
    {
      "cell_type": "code",
      "execution_count": null,
      "metadata": {
        "id": "l0G55sGADaJ3"
      },
      "outputs": [],
      "source": [
        "batch[\"ground_truth_mask\"].shape"
      ]
    },
    {
      "cell_type": "code",
      "execution_count": null,
      "metadata": {
        "id": "7fUTkHq3DcVV"
      },
      "outputs": [],
      "source": [
        "# Load the model\n",
        "model = SamModel.from_pretrained(\"facebook/sam-vit-base\")\n",
        "\n",
        "# make sure we only compute gradients for mask decoder\n",
        "for name, param in model.named_parameters():\n",
        "  if name.startswith(\"vision_encoder\") or name.startswith(\"prompt_encoder\"):\n",
        "    param.requires_grad_(False)"
      ]
    },
    {
      "cell_type": "code",
      "execution_count": null,
      "metadata": {
        "id": "NUQFybjODebi"
      },
      "outputs": [],
      "source": [
        "# Initialize the optimizer and the loss function\n",
        "optimizer = Adam(model.mask_decoder.parameters(), lr=1e-5, weight_decay=0)\n",
        "#Try DiceFocalLoss, FocalLoss, DiceCELoss\n",
        "seg_loss = monai.losses.DiceCELoss(sigmoid=True, squared_pred=True, reduction='mean')"
      ]
    },
    {
      "cell_type": "code",
      "execution_count": null,
      "metadata": {
        "id": "XbD2PQlPDgFF"
      },
      "outputs": [],
      "source": [
        "#Training loop\n",
        "num_epochs = 1\n",
        "\n",
        "device = \"cuda\" if torch.cuda.is_available() else \"cpu\"\n",
        "model.to(device)\n",
        "\n",
        "model.train()\n",
        "for epoch in range(num_epochs):\n",
        "    epoch_losses = []\n",
        "    for batch in tqdm(train_dataloader):\n",
        "      # forward pass\n",
        "      outputs = model(pixel_values=batch[\"pixel_values\"].to(device),\n",
        "                      input_boxes=batch[\"input_boxes\"].to(device),\n",
        "                      multimask_output=False)\n",
        "\n",
        "      # compute loss\n",
        "      predicted_masks = outputs.pred_masks.squeeze(1)\n",
        "      ground_truth_masks = batch[\"ground_truth_mask\"].float().to(device)\n",
        "      loss = seg_loss(predicted_masks, ground_truth_masks.unsqueeze(1))\n",
        "\n",
        "      # backward pass (compute gradients of parameters w.r.t. loss)\n",
        "      optimizer.zero_grad()\n",
        "      loss.backward()\n",
        "\n",
        "      # optimize\n",
        "      optimizer.step()\n",
        "      epoch_losses.append(loss.item())\n",
        "\n",
        "    print(f'EPOCH: {epoch}')\n",
        "    print(f'Mean loss: {mean(epoch_losses)}')"
      ]
    },
    {
      "cell_type": "code",
      "execution_count": null,
      "metadata": {
        "id": "7zm89g_tbcdN"
      },
      "outputs": [],
      "source": [
        "# Save the model's state dictionary to a file\n",
        "torch.save(model.state_dict(), model_checkpoint)"
      ]
    },
    {
      "cell_type": "markdown",
      "metadata": {
        "id": "zEcD7ScIIJlt"
      },
      "source": [
        "**Inference**"
      ]
    },
    {
      "cell_type": "code",
      "execution_count": null,
      "metadata": {
        "id": "S_btfQPQcKww"
      },
      "outputs": [],
      "source": [
        "# Load the model configuration\n",
        "model_config = SamConfig.from_pretrained(\"facebook/sam-vit-base\")\n",
        "processor = SamProcessor.from_pretrained(\"facebook/sam-vit-base\")\n",
        "\n",
        "# Create an instance of the model architecture with the loaded configuration\n",
        "my_mito_model = SamModel(config=model_config)\n",
        "#Update the model by loading the weights from saved file.\n",
        "#my_mito_model.load_state_dict(torch.load(\"first_model_checkpoint.pth\"))\n",
        "# Colab version\n",
        "my_mito_model.load_state_dict(torch.load(model_checkpoint))"
      ]
    },
    {
      "cell_type": "code",
      "execution_count": null,
      "metadata": {
        "id": "HCF1o3BVTVic"
      },
      "outputs": [],
      "source": [
        "# set the device to cuda if available, otherwise use cpu\n",
        "device = \"cuda\" if torch.cuda.is_available() else \"cpu\"\n",
        "my_mito_model.to(device)"
      ]
    },
    {
      "cell_type": "code",
      "execution_count": null,
      "metadata": {
        "id": "c5tPMMIBeBxv"
      },
      "outputs": [],
      "source": [
        "# let's take a random training example\n",
        "idx = random.randint(0, filtered_images.shape[0]-1)\n",
        "\n",
        "# load image\n",
        "test_image = dataset[idx][\"image\"]\n",
        "\n",
        "# get box prompt based on ground truth segmentation map\n",
        "ground_truth_mask = np.array(dataset[idx][\"label\"])\n",
        "prompt = get_bounding_box(ground_truth_mask)\n",
        "\n",
        "# prepare image + box prompt for the model\n",
        "inputs = processor(test_image, input_boxes=[[prompt]], return_tensors=\"pt\")\n",
        "\n",
        "# Move the input tensor to the GPU if it's not already there\n",
        "inputs = {k: v.to(device) for k, v in inputs.items()}\n",
        "\n",
        "my_mito_model.eval()\n",
        "\n",
        "# forward pass\n",
        "with torch.no_grad():\n",
        "    outputs = my_mito_model(**inputs, multimask_output=False)\n",
        "\n",
        "# apply sigmoid\n",
        "medsam_seg_prob = torch.sigmoid(outputs.pred_masks.squeeze(1))\n",
        "# convert soft mask to hard mask\n",
        "medsam_seg_prob = medsam_seg_prob.cpu().numpy().squeeze()\n",
        "medsam_seg = (medsam_seg_prob > 0.5).astype(np.uint8)\n",
        "\n",
        "\n",
        "fig, axes = plt.subplots(1, 3, figsize=(15, 5))\n",
        "\n",
        "# Plot the first image on the left\n",
        "axes[0].imshow(np.array(test_image), cmap='gray')  # Assuming the first image is grayscale\n",
        "axes[0].set_title(\"Image\")\n",
        "\n",
        "# Plot the second image on the right\n",
        "axes[1].imshow(medsam_seg, cmap='gray')  # Assuming the second image is grayscale\n",
        "axes[1].set_title(\"Mask\")\n",
        "\n",
        "# Plot the second image on the right\n",
        "axes[2].imshow(medsam_seg_prob)  # Assuming the second image is grayscale\n",
        "axes[2].set_title(\"Probability Map\")\n",
        "\n",
        "# Hide axis ticks and labels\n",
        "for ax in axes:\n",
        "    ax.set_xticks([])\n",
        "    ax.set_yticks([])\n",
        "    ax.set_xticklabels([])\n",
        "    ax.set_yticklabels([])\n",
        "\n",
        "# Display the images side by side\n",
        "plt.show()\n"
      ]
    },
    {
      "cell_type": "markdown",
      "metadata": {
        "id": "IMlaxunPfP0h"
      },
      "source": [
        "Now, let us load a new image and segment it using our trained model. NOte that we need to provide some prompt. Since we do not know where the objects are going to be we cannot supply bounding boxes. So let us provide a grid of points as our prompt."
      ]
    },
    {
      "cell_type": "code",
      "execution_count": null,
      "metadata": {
        "id": "VN3AXZpTAW85"
      },
      "outputs": [],
      "source": [
        "#Apply a trained model on large image\n",
        "#large_test_images = tifffile.imread(\"test_images.tiff\")\n",
        "#Colab version\n",
        "large_test_images = tifffile.imread(test_img_path)\n",
        "\n",
        "large_test_image = large_test_images[1]\n",
        "patches = patchify(large_test_image, (256, 256), step=256)  #Step=256 for 256 patches means no overlap"
      ]
    },
    {
      "cell_type": "code",
      "execution_count": null,
      "metadata": {
        "id": "LjzkvN07fiXN"
      },
      "outputs": [],
      "source": [
        "\"\"\"\n",
        "input_points (torch.FloatTensor of shape (batch_size, num_points, 2)) —\n",
        "Input 2D spatial points, this is used by the prompt encoder to encode the prompt.\n",
        "Generally yields to much better results. The points can be obtained by passing a\n",
        "list of list of list to the processor that will create corresponding torch tensors\n",
        "of dimension 4. The first dimension is the image batch size, the second dimension\n",
        "is the point batch size (i.e. how many segmentation masks do we want the model to\n",
        "predict per input point), the third dimension is the number of points per segmentation\n",
        "mask (it is possible to pass multiple points for a single mask), and the last dimension\n",
        "is the x (vertical) and y (horizontal) coordinates of the point. If a different number\n",
        "of points is passed either for each image, or for each mask, the processor will create\n",
        "“PAD” points that will correspond to the (0, 0) coordinate, and the computation of the\n",
        "embedding will be skipped for these points using the labels.\n",
        "\n",
        "\"\"\"\n",
        "# Define the size of your array\n",
        "array_size = 256\n",
        "\n",
        "# Define the size of your grid\n",
        "grid_size = 10\n",
        "\n",
        "# Generate the grid points\n",
        "x = np.linspace(0, array_size-1, grid_size)\n",
        "y = np.linspace(0, array_size-1, grid_size)\n",
        "\n",
        "# Generate a grid of coordinates\n",
        "xv, yv = np.meshgrid(x, y)\n",
        "\n",
        "# Convert the numpy arrays to lists\n",
        "xv_list = xv.tolist()\n",
        "yv_list = yv.tolist()\n",
        "\n",
        "# Combine the x and y coordinates into a list of list of lists\n",
        "input_points = [[[int(x), int(y)] for x, y in zip(x_row, y_row)] for x_row, y_row in zip(xv_list, yv_list)]\n",
        "\n",
        "#We need to reshape our nxn grid to the expected shape of the input_points tensor\n",
        "# (batch_size, point_batch_size, num_points_per_image, 2),\n",
        "# where the last dimension of 2 represents the x and y coordinates of each point.\n",
        "#batch_size: The number of images you're processing at once.\n",
        "#point_batch_size: The number of point sets you have for each image.\n",
        "#num_points_per_image: The number of points in each set.\n",
        "input_points = torch.tensor(input_points).view(1, 1, grid_size*grid_size, 2)"
      ]
    },
    {
      "cell_type": "code",
      "execution_count": null,
      "metadata": {
        "id": "bklL6QTjfmke"
      },
      "outputs": [],
      "source": [
        "print(np.array(input_points).shape)"
      ]
    },
    {
      "cell_type": "code",
      "execution_count": null,
      "metadata": {
        "id": "hh5IldI8fo9d"
      },
      "outputs": [],
      "source": [
        "patches.shape"
      ]
    },
    {
      "cell_type": "code",
      "execution_count": null,
      "metadata": {
        "id": "ge99sIzCfqqZ"
      },
      "outputs": [],
      "source": [
        "# Select a random patch for segmentation\n",
        "\n",
        "# Compute the total number of 256x256 arrays\n",
        "#num_arrays = patches.shape[0] * patches.shape[1]\n",
        "# Select a random index\n",
        "#index = np.random.choice(num_arrays)\n",
        "# Compute the indices in the original array\n",
        "#i = index // patches.shape[1]\n",
        "#j = index % patches.shape[1]\n",
        "\n",
        "#Or pick a specific patch for study.\n",
        "i, j = 1, 2\n",
        "\n",
        "# Selected patch for segmentation\n",
        "random_array = patches[i, j]\n",
        "\n",
        "single_patch = Image.fromarray(random_array)\n",
        "# prepare image for the model\n",
        "\n",
        "# Check and reshape the single_patch to have 3 dimensions\n",
        "if single_patch.mode == 'L':  # If it's a grayscale image\n",
        "    single_patch = np.array(single_patch)\n",
        "    single_patch = np.expand_dims(single_patch, axis=-1)  # Expand dimensions to (height, width, 1)\n",
        "    single_patch = np.concatenate([single_patch] * 3, axis=-1)  # Duplicate the channel to get (height, width, 3)\n",
        "\n",
        "# Convert the array back to PIL Image for the processor\n",
        "single_patch = Image.fromarray(np.uint8(single_patch))\n",
        "\n",
        "\n",
        "#First try without providing any prompt (no bounding box or input_points)\n",
        "#inputs = processor(single_patch, return_tensors=\"pt\")\n",
        "#Now try with bounding boxes. Remember to uncomment.\n",
        "inputs = processor(single_patch, input_points=input_points, return_tensors=\"pt\")\n",
        "\n",
        "# Move the input tensor to the GPU if it's not already there\n",
        "inputs = {k: v.to(device) for k, v in inputs.items()}\n",
        "my_mito_model.eval()\n",
        "\n",
        "\n",
        "# forward pass\n",
        "with torch.no_grad():\n",
        "  outputs = my_mito_model(**inputs, multimask_output=False)\n",
        "\n",
        "# apply sigmoid\n",
        "single_patch_prob = torch.sigmoid(outputs.pred_masks.squeeze(1))\n",
        "# convert soft mask to hard mask\n",
        "single_patch_prob = single_patch_prob.cpu().numpy().squeeze()\n",
        "single_patch_prediction = (single_patch_prob > 0.5).astype(np.uint8)\n",
        "\n",
        "\n",
        "fig, axes = plt.subplots(1, 3, figsize=(15, 5))\n",
        "\n",
        "# Plot the first image on the left\n",
        "axes[0].imshow(np.array(single_patch), cmap='gray')  # Assuming the first image is grayscale\n",
        "axes[0].set_title(\"Image\")\n",
        "\n",
        "# Plot the second image on the right\n",
        "axes[1].imshow(single_patch_prob)  # Assuming the second image is grayscale\n",
        "axes[1].set_title(\"Probability Map\")\n",
        "\n",
        "# Plot the second image on the right\n",
        "axes[2].imshow(single_patch_prediction, cmap='gray')  # Assuming the second image is grayscale\n",
        "axes[2].set_title(\"Prediction\")\n",
        "\n",
        "# Hide axis ticks and labels\n",
        "for ax in axes:\n",
        "    ax.set_xticks([])\n",
        "    ax.set_yticks([])\n",
        "    ax.set_xticklabels([])\n",
        "    ax.set_yticklabels([])\n",
        "\n",
        "# Display the images side by side\n",
        "plt.show()"
      ]
    }
  ],
  "metadata": {
    "accelerator": "GPU",
    "colab": {
      "gpuType": "T4",
      "include_colab_link": true,
      "provenance": []
    },
    "kernelspec": {
      "display_name": "Python 3",
      "name": "python3"
    },
    "language_info": {
      "codemirror_mode": {
        "name": "ipython",
        "version": 3
      },
      "file_extension": ".py",
      "mimetype": "text/x-python",
      "name": "python",
      "nbconvert_exporter": "python",
      "pygments_lexer": "ipython3",
      "version": "3.11.0"
    }
  },
  "nbformat": 4,
  "nbformat_minor": 0
}
