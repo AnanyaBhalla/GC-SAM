{
  "cells": [
    {
      "cell_type": "markdown",
      "metadata": {
        "colab_type": "text",
        "id": "view-in-github"
      },
      "source": [
        "<a href=\"https://colab.research.google.com/github/AnanyaBhalla/GC-SAM/blob/main/fine_tune_SAM.ipynb\" target=\"_parent\"><img src=\"https://colab.research.google.com/assets/colab-badge.svg\" alt=\"Open In Colab\"/></a>"
      ]
    },
    {
      "cell_type": "markdown",
      "metadata": {
        "id": "ekbl6wXaNLxT"
      },
      "source": [
        "https://youtu.be/83tnWs_YBRQ"
      ]
    },
    {
      "cell_type": "markdown",
      "metadata": {
        "id": "VCm5afA7UaQu"
      },
      "source": [
        "**This notebook walks you through the process of fine-tuning a Segment Anything Model (SAM) using custom data**.\n",
        "<p>\n",
        "\n",
        "**What is SAM?**\n",
        "<br>\n",
        "SAM is an image segmentation model developed by Meta AI. It was trained over 11 billion segmentation masks from millions of images. It is designed to take human prompts, in the form of points, bounding boxes or even a text prompt describing what should be segmented.\n",
        "<p>\n",
        "\n",
        "**What are the key features of SAM?**\n",
        "<br>\n",
        "\n",
        "* **Zero-shot generalization:** SAM can be used to segment objects that it has never seen before, without the need for additional training.\n",
        "\n",
        "* **Flexible prompting:** SAM can be prompted with a variety of input, including points, boxes, and text descriptions.\n",
        "\n",
        "* **Real-time mask computation:** SAM can generate masks for objects in real time. This makes SAM ideal for applications where it is necessary to segment objects quickly, such as autonomous driving and robotics.\n",
        "\n",
        "* **Ambiguity awareness:** SAM is aware of the ambiguity of objects in images. This means that SAM can generate masks for objects even when they are partially occluded or overlapping with other objects.\n",
        "\n",
        "<p>\n",
        "\n",
        "**How does SAM work?**\n",
        "<br>\n",
        "SAM works by first encoding the image into a high-dimensional vector representation. The prompt is encoded into a separate vector representation. The two vector representations are then combined and passed to a mask decoder, which outputs a mask for the object specified by the prompt.\n",
        "<p>\n",
        "The image encoder is a vision transformer (ViT-H) model, which is a large language model that has been pre-trained on a massive dataset of images. The prompt encoder is a simple text encoder that converts the input prompt into a vector representation. The mask decoder is a lightweight transformer model that predicts the object mask from the image and prompt embeddings.\n",
        "<p>\n",
        "\n",
        "**SAM paper:** https://arxiv.org/pdf/2304.02643.pdf​\n",
        "<p>\n",
        "\n",
        "**Link to the dataset used in this demonstration:** https://www.epfl.ch/labs/cvlab/data/data-em/\n",
        "<br>Courtesy: EPFL\n",
        "<p>\n",
        "\n",
        "This code has been heavily adapted from this notebook but modified to work with a truly custom dataset where we have a bunch of images and binary masks.\n",
        "https://github.com/NielsRogge/Transformers-Tutorials/blob/master/SAM/Fine_tune_SAM_(segment_anything)_on_a_custom_dataset.ipynb\n",
        "\n"
      ]
    },
    {
      "cell_type": "code",
      "execution_count": null,
      "metadata": {
        "colab": {
          "base_uri": "https://localhost:8080/"
        },
        "id": "YqEldlxSQcgL",
        "outputId": "a1e3c197-91ab-49de-abfa-cb2dbc75b630"
      },
      "outputs": [],
      "source": [
        "# If you're using Google Colab, you can mount your folder with the images onto Google Drive\n",
        "from google.colab import drive\n",
        "drive.mount('/content/drive')"
      ]
    },
    {
      "cell_type": "code",
      "execution_count": null,
      "metadata": {
        "colab": {
          "base_uri": "https://localhost:8080/"
        },
        "id": "NSkTx6N-Mtyd",
        "outputId": "ad8461c6-d0bb-45ea-ad28-9cf515423287"
      },
      "outputs": [],
      "source": [
        "# Install the required libraries\n",
        "#SAM\n",
        "!pip install git+https://github.com/facebookresearch/segment-anything.git\n",
        "#Transformers\n",
        "!pip install -q git+https://github.com/huggingface/transformers.git\n",
        "#Datasets to prepare data and monai if you want to use special loss functions\n",
        "!pip install datasets\n",
        "!pip install -q monai\n",
        "#Patchify to divide large images into smaller patches for training. (Not necessary for smaller images)\n",
        "!pip install patchify"
      ]
    },
    {
      "cell_type": "markdown",
      "metadata": {},
      "source": [
        "Install OpenSlide (Windows)"
      ]
    },
    {
      "cell_type": "code",
      "execution_count": null,
      "metadata": {},
      "outputs": [],
      "source": [
        "# The path can also be read from a config file, etc.\n",
        "OPENSLIDE_PATH = r'C:\\Users\\colou\\lib\\openslide-bin-4.0.0.3-windows-x64\\bin'\n",
        "\n",
        "import os\n",
        "if hasattr(os, 'add_dll_directory'):\n",
        "    # Windows\n",
        "    with os.add_dll_directory(OPENSLIDE_PATH):\n",
        "        import openslide\n",
        "else:\n",
        "    import openslide"
      ]
    },
    {
      "cell_type": "markdown",
      "metadata": {},
      "source": [
        "Install OpenSlide (macOS, Linux)"
      ]
    },
    {
      "cell_type": "code",
      "execution_count": null,
      "metadata": {
        "colab": {
          "base_uri": "https://localhost:8080/"
        },
        "id": "R9-8kKzgxB-d",
        "outputId": "64fa96f5-6e5c-4f16-f154-0d6d4f08d962"
      },
      "outputs": [],
      "source": [
        "# Install OpenSlide library\n",
        "!apt-get install -y openslide-tools\n",
        "\n",
        "# Install OpenSlide Python bindings\n",
        "!pip install openslide-python\n",
        "\n",
        "import openslide\n"
      ]
    },
    {
      "cell_type": "markdown",
      "metadata": {},
      "source": [
        "Imports"
      ]
    },
    {
      "cell_type": "code",
      "execution_count": null,
      "metadata": {
        "id": "aTXUX7xyCEGT"
      },
      "outputs": [],
      "source": [
        "import os\n",
        "import numpy as np\n",
        "import matplotlib.pyplot as plt\n",
        "import tifffile\n",
        "from patchify import patchify  #Only to handle large images\n",
        "import random\n",
        "from scipy import ndimage\n",
        "from PIL import Image\n",
        "Image.MAX_IMAGE_PIXELS = None\n",
        "from transformers import SamModel, SamConfig, SamProcessor\n",
        "from tqdm import tqdm\n",
        "from statistics import mean\n",
        "from datasets import Dataset\n",
        "import torch\n",
        "from torch.nn.functional import threshold, normalize\n",
        "from torch.optim import Adam\n",
        "import monai\n",
        "from torch.utils.data import DataLoader\n",
        "import json\n",
        "import skimage.draw\n",
        "import skimage.io\n",
        "import matplotlib.pyplot as plt\n",
        "import cv2\n",
        "import glob\n",
        "from tqdm import tqdm"
      ]
    },
    {
      "cell_type": "markdown",
      "metadata": {},
      "source": [
        "Setup folders"
      ]
    },
    {
      "cell_type": "code",
      "execution_count": null,
      "metadata": {
        "id": "wZVUEon7HrXW"
      },
      "outputs": [],
      "source": [
        "#wsi_path = \"validation_train_split/train_image\"\n",
        "source_img_path = \"training/wsis\"\n",
        "training_img_path = 'training/wsi_pngs'  # Path to your downscaled PNG files\n",
        "annotations_path = \"training/annotations/100cohort\"\n",
        "training_mask_path = \"validation_train_split/train_mask\"\n",
        "training_mask_path = \"training/masks\"\n",
        "model_checkpoint = \"model_checkpoint.pth\"\n",
        "test_img_path = \"test_images\"\n",
        "\n",
        "# Folder paths - change the below to True or False depending on the env\n",
        "google_colab = False\n",
        "\n",
        "if google_colab:\n",
        "    #base_folder = \"/content/drive/MyDrive/DinaDL\"\n",
        "    base_folder = \"/content/drive/MyDrive/sml/SAM/GC_fine_tuning\"\n",
        "    source_img_path = base_folder + source_img_path\n",
        "\n",
        "    #training_img_path = base_folder + \"/validation_train_split/train_image\"\n",
        "    training_img_path = base_folder + training_img_path\n",
        "    annotations_path = base_folder + annotations_path\n",
        "\n",
        "    #training_mask_path = base_folder + \"/validation_train_split/train_mask\"\n",
        "    training_mask_path = base_folder + training_mask_path\n",
        "    model_checkpoint = base_folder + model_checkpoint\n",
        "    #test_img_path = base_folder + \"/trial/test_images.tiff\"\n",
        "\n",
        "# This is the multiplier by which the source images are downscaled to training images\n",
        "# Decrease this if the training image resolutions are too low\n",
        "# NOTE: This same downscale factor will be applied to the json annotations as well\n",
        "downscale_factor = 16 "
      ]
    },
    {
      "cell_type": "markdown",
      "metadata": {
        "id": "VB7_JTvYvist"
      },
      "source": [
        "Pre-processing - rename bad file names"
      ]
    },
    {
      "cell_type": "code",
      "execution_count": null,
      "metadata": {
        "id": "OryfdGp_vhDv"
      },
      "outputs": [],
      "source": [
        "def rename_files(directory):\n",
        "    for filename in os.listdir(directory):\n",
        "        # Check if there's a space in the filename\n",
        "        if ' ' in filename:\n",
        "            # Create the new filename by replacing spaces with underscores\n",
        "            new_filename = filename.replace(' ', '_')\n",
        "            # Get the full path of the old and new filenames\n",
        "            old_file = os.path.join(directory, filename)\n",
        "            new_file = os.path.join(directory, new_filename)\n",
        "            # Rename the file\n",
        "            os.rename(old_file, new_file)\n",
        "            print(f'Renamed: {filename} to {new_filename}')\n",
        "\n",
        "rename_files(source_img_path)\n",
        "rename_files(annotations_path)\n",
        "rename_files(training_mask_path)"
      ]
    },
    {
      "cell_type": "markdown",
      "metadata": {
        "id": "JQTMkWxXHrXW"
      },
      "source": [
        "Pre-processing - downscale source images (NDPI) to easily processable images (PNG)"
      ]
    },
    {
      "cell_type": "code",
      "execution_count": null,
      "metadata": {},
      "outputs": [],
      "source": [
        "# Function to convert NDPI images to downscaled PNG\n",
        "def convert_ndpi_to_png(ndpi_path, png_output_path, downscale_factor):\n",
        "    # Ensure the output directory exists\n",
        "    if not os.path.exists(png_output_path):\n",
        "        os.makedirs(png_output_path)\n",
        "\n",
        "    # Get all the NDPI files\n",
        "    ndpi_files = [f for f in os.listdir(ndpi_path) if f.endswith('.ndpi')]\n",
        "\n",
        "    for ndpi_file in tqdm(ndpi_files, desc=\"Converting NDPI to PNG\"):\n",
        "        ndpi_file_path = os.path.join(ndpi_path, ndpi_file)\n",
        "\n",
        "        # Open the NDPI file\n",
        "        slide = openslide.OpenSlide(ndpi_file_path)\n",
        "        # Calculate the downscaled dimensions\n",
        "        width, height = slide.level_dimensions[0]\n",
        "        new_width = width // downscale_factor\n",
        "        new_height = height // downscale_factor\n",
        "\n",
        "        # Get the thumbnail (downscaled image)\n",
        "        thumbnail = slide.get_thumbnail((new_width, new_height))\n",
        "\n",
        "        # Save the thumbnail as PNG\n",
        "        base_name = os.path.splitext(ndpi_file)[0]\n",
        "        png_file_path = os.path.join(png_output_path, f\"{base_name}.ndpi.png\")\n",
        "        thumbnail.save(png_file_path, \"PNG\")\n",
        "\n",
        "        print(f\"Saved {png_file_path}\")\n",
        "\n",
        "# Convert NDPI images to PNG\n",
        "convert_ndpi_to_png(source_img_path, training_img_path, downscale_factor)"
      ]
    },
    {
      "cell_type": "markdown",
      "metadata": {},
      "source": [
        "Pre-processing - convert JSON annotations to mask images"
      ]
    },
    {
      "cell_type": "code",
      "execution_count": null,
      "metadata": {},
      "outputs": [],
      "source": [
        "# Function to create masks from JSON annotations\n",
        "def create_masks_from_json(png_path, json_path, mask_output_path, downscale_factor):\n",
        "    # Ensure the output directory exists\n",
        "    if not os.path.exists(mask_output_path):\n",
        "        os.makedirs(mask_output_path)\n",
        "\n",
        "    # Get all JSON files\n",
        "    json_files = [f for f in os.listdir(json_path) if f.endswith('.json')]\n",
        "\n",
        "    for json_file in tqdm(json_files, desc=\"Creating masks from JSON\"):\n",
        "        json_file_path = os.path.join(json_path, json_file)\n",
        "        \n",
        "        # Load JSON annotations\n",
        "        with open(json_file_path, 'r') as f:\n",
        "            annotations = json.load(f)\n",
        "\n",
        "        # Find the corresponding PNG file\n",
        "        base_name = json_file.replace('.json', '')\n",
        "        png_file_path = os.path.join(png_path, f\"{base_name}.png\")\n",
        "\n",
        "        if os.path.exists(png_file_path):\n",
        "            # Open the PNG file to get dimensions\n",
        "            image = skimage.io.imread(png_file_path)\n",
        "            height, width = image.shape[:2]\n",
        "\n",
        "            # Create an empty mask as a numpy array\n",
        "            mask_np = np.zeros((height, width), dtype=np.uint8)\n",
        "\n",
        "            for ann in annotations:  # Assuming annotations is a list of features\n",
        "                if ann['geometry']['type'] == \"Polygon\":\n",
        "                    # Extract segmentation polygon\n",
        "                    for seg in ann['geometry']['coordinates']:\n",
        "                        # Convert polygons to a binary mask and add it to the main mask\n",
        "                        poly = np.array(seg) // downscale_factor  # Downscale the coordinates\n",
        "                        if np.any(poly >= np.array([width, height])) or np.any(poly < 0):\n",
        "                            print(f\"Polygon coordinates out of bounds in {json_file}\")\n",
        "                            continue\n",
        "                        rr, cc = skimage.draw.polygon(poly[:, 1], poly[:, 0], mask_np.shape)\n",
        "                        \n",
        "                        mask_np[rr, cc] = 255\n",
        "\n",
        "                        # Debug: Print some of the polygon coordinates\n",
        "                    print(f\"Drawing polygon with coordinates: {poly}\")\n",
        "\n",
        "            # Debug: Print non-zero values in the mask\n",
        "            non_zero_values = np.count_nonzero(mask_np)\n",
        "            print(f\"Non-zero values in the mask for {json_file}: {non_zero_values}\")\n",
        "\n",
        "            # Save the numpy array as a PNG file\n",
        "            mask_file_path = os.path.join(mask_output_path, f\"{base_name}.png\")\n",
        "            skimage.io.imsave(mask_file_path, mask_np)\n",
        "\n",
        "            print(f\"Saved mask for {json_file} to {mask_file_path}\")\n",
        "        else:\n",
        "            print(f\"PNG file {png_file_path} not found. Skipping.\")\n",
        "\n",
        "# Create masks from JSON annotations\n",
        "create_masks_from_json(training_img_path, annotations_path, training_mask_path, downscale_factor)\n"
      ]
    },
    {
      "cell_type": "markdown",
      "metadata": {
        "id": "BE6O7-O4gO6X"
      },
      "source": [
        "Now. let us divide these large images into smaller patches for training. We can use patchify or write custom code."
      ]
    },
    {
      "cell_type": "code",
      "execution_count": null,
      "metadata": {},
      "outputs": [],
      "source": [
        "def match_image_and_mask_filenames(image_folder, mask_folder):\n",
        "    image_filenames = [f for f in os.listdir(image_folder) if f.endswith(\".png\")]\n",
        "    mask_filenames = [f for f in os.listdir(mask_folder) if f.endswith(\".png\")]\n",
        "    matched_pairs = [(img, img) for img in image_filenames if img in mask_filenames]\n",
        "    return matched_pairs\n",
        "\n",
        "def load_and_patchify_images_and_masks(image_folder, mask_folder, patch_size, step):\n",
        "    images = []\n",
        "    masks = []\n",
        "    matched_pairs = match_image_and_mask_filenames(image_folder, mask_folder)\n",
        "\n",
        "    for image_filename, mask_filename in matched_pairs:\n",
        "        # Load and patchify image\n",
        "        img_path = os.path.join(image_folder, image_filename)\n",
        "        img = Image.open(img_path).convert(\"RGB\")\n",
        "        img = np.array(img)\n",
        "\n",
        "        patches_img = patchify(img, (patch_size, patch_size, 3), step=step)  # Ensure RGB output\n",
        "        patches_img = patches_img.reshape(-1, patch_size, patch_size, 3)  # Reshape to remove singleton dimensions\n",
        "        images.extend(patches_img)\n",
        "\n",
        "        # Load and patchify mask\n",
        "        mask_path = os.path.join(mask_folder, mask_filename)\n",
        "        mask = Image.open(mask_path).convert(\"L\")\n",
        "        mask = np.array(mask)\n",
        "        mask = np.expand_dims(mask, axis=-1)  # Ensure mask has a channel dimension\n",
        "\n",
        "        patches_mask = patchify(mask, (patch_size, patch_size, 1), step=step)  # Assume single-channel mask\n",
        "        patches_mask = patches_mask.reshape(-1, patch_size, patch_size, 1)  # Reshape to remove singleton dimensions\n",
        "        masks.extend(patches_mask)\n",
        "\n",
        "    return np.array(images), np.array(masks)\n",
        "\n",
        "patch_size = 256\n",
        "step = 256\n",
        "\n",
        "# Load and patchify images and masks\n",
        "images, masks = load_and_patchify_images_and_masks(training_img_path, training_mask_path, patch_size, step)\n",
        "print(f\"Image patches shape: {images.shape}\")\n",
        "print(f\"Mask patches shape: {masks.shape}\")\n"
      ]
    },
    {
      "cell_type": "markdown",
      "metadata": {
        "id": "09UD2FcbTubl"
      },
      "source": [
        "Now, let us delete empty masks as they may cause issues later on during training. If a batch contains empty masks then the loss function will throw an error as it may not know how to handle empty tensors."
      ]
    },
    {
      "cell_type": "code",
      "execution_count": null,
      "metadata": {
        "id": "rtswt5WRSEJz"
      },
      "outputs": [],
      "source": [
        "# Create a list to store the indices of non-empty masks\n",
        "valid_indices = [i for i, mask in enumerate(masks) if mask.max() != 0]\n",
        "# Filter the image and mask arrays to keep only the non-empty pairs\n",
        "filtered_images = images[valid_indices]\n",
        "filtered_masks = masks[valid_indices]\n",
        "print(\"Image shape:\", filtered_images.shape)  # e.g., (num_frames, height, width, num_channels)\n",
        "print(\"Mask shape:\", filtered_masks.shape)"
      ]
    },
    {
      "cell_type": "markdown",
      "metadata": {
        "id": "Pkbouhweg9cT"
      },
      "source": [
        "Let us create a 'dataset' that serves us input images and masks for the rest of our journey."
      ]
    },
    {
      "cell_type": "code",
      "execution_count": null,
      "metadata": {
        "id": "dc0AYuB0HrXX"
      },
      "outputs": [],
      "source": [
        "# Convert the NumPy arrays to Pillow images and preprocess them\n",
        "dataset_dict = {\n",
        "    \"image\": [Image.fromarray(img) for img in filtered_images],\n",
        "    \"label\": [Image.fromarray(mask.squeeze()) for mask in filtered_masks],  # Use squeeze to remove the singleton dimension\n",
        "}\n",
        "\n",
        "# Create the dataset using the datasets.Dataset class\n",
        "dataset = Dataset.from_dict(dataset_dict)"
      ]
    },
    {
      "cell_type": "code",
      "execution_count": null,
      "metadata": {
        "id": "KW75qC8XltYR"
      },
      "outputs": [],
      "source": [
        "# Function to print the number of channels in the first image\n",
        "def print_number_of_channels(dataset):\n",
        "    if len(dataset) > 0:\n",
        "        item = dataset[0]\n",
        "        image = item['image']\n",
        "        # Convert to NumPy array if necessary\n",
        "        if isinstance(image, Image.Image):\n",
        "            image = np.array(image)\n",
        "        num_channels = image.shape[-1] if image.ndim == 3 else 1\n",
        "        print(f\"The first image has {num_channels} channel(s)\")\n",
        "    else:\n",
        "        print(\"The dataset is empty\")\n",
        "\n",
        "# Print the number of channels for the first image in the dataset\n",
        "print_number_of_channels(dataset)"
      ]
    },
    {
      "cell_type": "code",
      "execution_count": null,
      "metadata": {
        "id": "fISBbWMRBfV3"
      },
      "outputs": [],
      "source": [
        "dataset"
      ]
    },
    {
      "cell_type": "markdown",
      "metadata": {
        "id": "NSPSMTIAhVWN"
      },
      "source": [
        "Let us make sure out images and masks (labels) are loading appropriately"
      ]
    },
    {
      "cell_type": "code",
      "execution_count": null,
      "metadata": {
        "id": "CAiRRfJhGmVs"
      },
      "outputs": [],
      "source": [
        "img_num = random.randint(0, filtered_images.shape[0]-1)\n",
        "example_image = dataset[img_num][\"image\"]\n",
        "example_mask = dataset[img_num][\"label\"]\n",
        "\n",
        "fig, axes = plt.subplots(1, 2, figsize=(10, 5))\n",
        "\n",
        "# Plot the first image on the left\n",
        "axes[0].imshow(np.array(example_image), cmap='gray')  # Assuming the first image is grayscale\n",
        "axes[0].set_title(\"Image\")\n",
        "\n",
        "# Plot the second image on the right\n",
        "axes[1].imshow(example_mask, cmap='gray')  # Assuming the second image is grayscale\n",
        "axes[1].set_title(\"Mask\")\n",
        "\n",
        "# Hide axis ticks and labels\n",
        "for ax in axes:\n",
        "    ax.set_xticks([])\n",
        "    ax.set_yticks([])\n",
        "    ax.set_xticklabels([])\n",
        "    ax.set_yticklabels([])\n",
        "\n",
        "# Display the images side by side\n",
        "plt.show()"
      ]
    },
    {
      "cell_type": "markdown",
      "metadata": {
        "id": "CffHur2PhiOJ"
      },
      "source": [
        "Get bounding boxes from masks. You can get here directly if you are working with coco style annotations where bounding boxes are captured in a JSON file."
      ]
    },
    {
      "cell_type": "code",
      "execution_count": null,
      "metadata": {
        "id": "LYmrZ9hWCpKV"
      },
      "outputs": [],
      "source": [
        "#Get bounding boxes from mask.\n",
        "def get_bounding_box(ground_truth_map):\n",
        "  # get bounding box from mask\n",
        "  y_indices, x_indices = np.where(ground_truth_map > 0)\n",
        "  x_min, x_max = np.min(x_indices), np.max(x_indices)\n",
        "  y_min, y_max = np.min(y_indices), np.max(y_indices)\n",
        "  # add perturbation to bounding box coordinates\n",
        "  H, W = ground_truth_map.shape\n",
        "  x_min = max(0, x_min - np.random.randint(0, 20))\n",
        "  x_max = min(W, x_max + np.random.randint(0, 20))\n",
        "  y_min = max(0, y_min - np.random.randint(0, 20))\n",
        "  y_max = min(H, y_max + np.random.randint(0, 20))\n",
        "  bbox = [x_min, y_min, x_max, y_max]\n",
        "\n",
        "  return bbox"
      ]
    },
    {
      "cell_type": "code",
      "execution_count": null,
      "metadata": {
        "id": "dQVNaYYbDKf6"
      },
      "outputs": [],
      "source": [
        "from torch.utils.data import Dataset\n",
        "\n",
        "class SAMDataset(Dataset):\n",
        "  \"\"\"\n",
        "  This class is used to create a dataset that serves input images and masks.\n",
        "  It takes a dataset and a processor as input and overrides the __len__ and __getitem__ methods of the Dataset class.\n",
        "  \"\"\"\n",
        "  def __init__(self, dataset, processor):\n",
        "    self.dataset = dataset\n",
        "    self.processor = processor\n",
        "\n",
        "  def __len__(self):\n",
        "    return len(self.dataset)\n",
        "\n",
        "  def __getitem__(self, idx):\n",
        "    item = self.dataset[idx]\n",
        "    image = item[\"image\"]\n",
        "    ground_truth_mask = np.array(item[\"label\"])\n",
        "\n",
        "    # get bounding box prompt\n",
        "    prompt = get_bounding_box(ground_truth_mask)\n",
        "\n",
        "    # prepare image and prompt for the model\n",
        "    inputs = self.processor(image, input_boxes=[[prompt]], return_tensors=\"pt\")\n",
        "\n",
        "    # remove batch dimension which the processor adds by default\n",
        "    inputs = {k:v.squeeze(0) for k,v in inputs.items()}\n",
        "\n",
        "    # add ground truth segmentation\n",
        "    inputs[\"ground_truth_mask\"] = ground_truth_mask\n",
        "\n",
        "    return inputs"
      ]
    },
    {
      "cell_type": "code",
      "execution_count": null,
      "metadata": {
        "id": "5IVksPItDOYg"
      },
      "outputs": [],
      "source": [
        "# Initialize the processor\n",
        "processor = SamProcessor.from_pretrained(\"facebook/sam-vit-base\")\n",
        "\n",
        "# Create an instance of the SAMDataset\n",
        "train_dataset = SAMDataset(dataset=dataset, processor=processor)\n",
        "\n",
        "example = train_dataset[0]\n",
        "for k,v in example.items():\n",
        "  print(k,v.shape)"
      ]
    },
    {
      "cell_type": "code",
      "execution_count": null,
      "metadata": {
        "id": "oAHAY4LxDYCt"
      },
      "outputs": [],
      "source": [
        "# Create a DataLoader instance for the training dataset\n",
        "train_dataloader = DataLoader(train_dataset, batch_size=2, shuffle=True, drop_last=False)\n",
        "\n",
        "batch = next(iter(train_dataloader))\n",
        "for k,v in batch.items():\n",
        "  print(k,v.shape)"
      ]
    },
    {
      "cell_type": "code",
      "execution_count": null,
      "metadata": {
        "id": "l0G55sGADaJ3"
      },
      "outputs": [],
      "source": [
        "batch[\"ground_truth_mask\"].shape"
      ]
    },
    {
      "cell_type": "code",
      "execution_count": null,
      "metadata": {
        "id": "7fUTkHq3DcVV"
      },
      "outputs": [],
      "source": [
        "# Load the model\n",
        "model = SamModel.from_pretrained(\"facebook/sam-vit-base\")\n",
        "\n",
        "# make sure we only compute gradients for mask decoder\n",
        "for name, param in model.named_parameters():\n",
        "  if name.startswith(\"vision_encoder\") or name.startswith(\"prompt_encoder\"):\n",
        "    param.requires_grad_(False)"
      ]
    },
    {
      "cell_type": "code",
      "execution_count": null,
      "metadata": {
        "id": "NUQFybjODebi"
      },
      "outputs": [],
      "source": [
        "# Initialize the optimizer and the loss function\n",
        "optimizer = Adam(model.mask_decoder.parameters(), lr=1e-5, weight_decay=0)\n",
        "#Try DiceFocalLoss, FocalLoss, DiceCELoss\n",
        "seg_loss = monai.losses.DiceCELoss(sigmoid=True, squared_pred=True, reduction='mean')"
      ]
    },
    {
      "cell_type": "code",
      "execution_count": null,
      "metadata": {
        "id": "XbD2PQlPDgFF"
      },
      "outputs": [],
      "source": [
        "#Training loop\n",
        "num_epochs = 1\n",
        "\n",
        "device = \"cuda\" if torch.cuda.is_available() else \"cpu\"\n",
        "model.to(device)\n",
        "\n",
        "model.train()\n",
        "for epoch in range(num_epochs):\n",
        "    epoch_losses = []\n",
        "    for batch in tqdm(train_dataloader):\n",
        "      # forward pass\n",
        "      outputs = model(pixel_values=batch[\"pixel_values\"].to(device),\n",
        "                      input_boxes=batch[\"input_boxes\"].to(device),\n",
        "                      multimask_output=False)\n",
        "\n",
        "      # compute loss\n",
        "      predicted_masks = outputs.pred_masks.squeeze(1)\n",
        "      ground_truth_masks = batch[\"ground_truth_mask\"].float().to(device)\n",
        "      loss = seg_loss(predicted_masks, ground_truth_masks.unsqueeze(1))\n",
        "\n",
        "      # backward pass (compute gradients of parameters w.r.t. loss)\n",
        "      optimizer.zero_grad()\n",
        "      loss.backward()\n",
        "\n",
        "      # optimize\n",
        "      optimizer.step()\n",
        "      epoch_losses.append(loss.item())\n",
        "\n",
        "    print(f'EPOCH: {epoch}')\n",
        "    print(f'Mean loss: {mean(epoch_losses)}')"
      ]
    },
    {
      "cell_type": "code",
      "execution_count": null,
      "metadata": {
        "id": "7zm89g_tbcdN"
      },
      "outputs": [],
      "source": [
        "# Save the model's state dictionary to a file\n",
        "torch.save(model.state_dict(), model_checkpoint)"
      ]
    },
    {
      "cell_type": "markdown",
      "metadata": {
        "id": "zEcD7ScIIJlt"
      },
      "source": [
        "**Inference**"
      ]
    },
    {
      "cell_type": "code",
      "execution_count": null,
      "metadata": {
        "id": "S_btfQPQcKww"
      },
      "outputs": [],
      "source": [
        "# Load the model configuration\n",
        "model_config = SamConfig.from_pretrained(\"facebook/sam-vit-base\")\n",
        "processor = SamProcessor.from_pretrained(\"facebook/sam-vit-base\")\n",
        "\n",
        "# Create an instance of the model architecture with the loaded configuration\n",
        "my_mito_model = SamModel(config=model_config)\n",
        "#Update the model by loading the weights from saved file.\n",
        "#my_mito_model.load_state_dict(torch.load(\"first_model_checkpoint.pth\"))\n",
        "# Colab version\n",
        "my_mito_model.load_state_dict(torch.load(model_checkpoint))"
      ]
    },
    {
      "cell_type": "code",
      "execution_count": null,
      "metadata": {
        "id": "HCF1o3BVTVic"
      },
      "outputs": [],
      "source": [
        "# set the device to cuda if available, otherwise use cpu\n",
        "device = \"cuda\" if torch.cuda.is_available() else \"cpu\"\n",
        "my_mito_model.to(device)"
      ]
    },
    {
      "cell_type": "code",
      "execution_count": null,
      "metadata": {
        "id": "c5tPMMIBeBxv"
      },
      "outputs": [],
      "source": [
        "# let's take a random training example\n",
        "idx = random.randint(0, filtered_images.shape[0]-1)\n",
        "\n",
        "# load image\n",
        "test_image = dataset[idx][\"image\"]\n",
        "\n",
        "# get box prompt based on ground truth segmentation map\n",
        "ground_truth_mask = np.array(dataset[idx][\"label\"])\n",
        "prompt = get_bounding_box(ground_truth_mask)\n",
        "\n",
        "# prepare image + box prompt for the model\n",
        "inputs = processor(test_image, input_boxes=[[prompt]], return_tensors=\"pt\")\n",
        "\n",
        "# Move the input tensor to the GPU if it's not already there\n",
        "inputs = {k: v.to(device) for k, v in inputs.items()}\n",
        "\n",
        "my_mito_model.eval()\n",
        "\n",
        "# forward pass\n",
        "with torch.no_grad():\n",
        "    outputs = my_mito_model(**inputs, multimask_output=False)\n",
        "\n",
        "# apply sigmoid\n",
        "medsam_seg_prob = torch.sigmoid(outputs.pred_masks.squeeze(1))\n",
        "# convert soft mask to hard mask\n",
        "medsam_seg_prob = medsam_seg_prob.cpu().numpy().squeeze()\n",
        "medsam_seg = (medsam_seg_prob > 0.5).astype(np.uint8)\n",
        "\n",
        "\n",
        "fig, axes = plt.subplots(1, 3, figsize=(15, 5))\n",
        "\n",
        "# Plot the first image on the left\n",
        "axes[0].imshow(np.array(test_image), cmap='gray')  # Assuming the first image is grayscale\n",
        "axes[0].set_title(\"Image\")\n",
        "\n",
        "# Plot the second image on the right\n",
        "axes[1].imshow(medsam_seg, cmap='gray')  # Assuming the second image is grayscale\n",
        "axes[1].set_title(\"Mask\")\n",
        "\n",
        "# Plot the second image on the right\n",
        "axes[2].imshow(medsam_seg_prob)  # Assuming the second image is grayscale\n",
        "axes[2].set_title(\"Probability Map\")\n",
        "\n",
        "# Hide axis ticks and labels\n",
        "for ax in axes:\n",
        "    ax.set_xticks([])\n",
        "    ax.set_yticks([])\n",
        "    ax.set_xticklabels([])\n",
        "    ax.set_yticklabels([])\n",
        "\n",
        "# Display the images side by side\n",
        "plt.show()\n"
      ]
    },
    {
      "cell_type": "markdown",
      "metadata": {
        "id": "IMlaxunPfP0h"
      },
      "source": [
        "Now, let us load a new image and segment it using our trained model. NOte that we need to provide some prompt. Since we do not know where the objects are going to be we cannot supply bounding boxes. So let us provide a grid of points as our prompt."
      ]
    },
    {
      "cell_type": "code",
      "execution_count": null,
      "metadata": {
        "id": "VN3AXZpTAW85"
      },
      "outputs": [],
      "source": [
        "#Apply a trained model on large image\n",
        "#large_test_images = tifffile.imread(\"test_images.tiff\")\n",
        "#Colab version\n",
        "large_test_images = tifffile.imread(test_img_path)\n",
        "\n",
        "large_test_image = large_test_images[1]\n",
        "patches = patchify(large_test_image, (256, 256), step=256)  #Step=256 for 256 patches means no overlap"
      ]
    },
    {
      "cell_type": "code",
      "execution_count": null,
      "metadata": {
        "id": "LjzkvN07fiXN"
      },
      "outputs": [],
      "source": [
        "\"\"\"\n",
        "input_points (torch.FloatTensor of shape (batch_size, num_points, 2)) —\n",
        "Input 2D spatial points, this is used by the prompt encoder to encode the prompt.\n",
        "Generally yields to much better results. The points can be obtained by passing a\n",
        "list of list of list to the processor that will create corresponding torch tensors\n",
        "of dimension 4. The first dimension is the image batch size, the second dimension\n",
        "is the point batch size (i.e. how many segmentation masks do we want the model to\n",
        "predict per input point), the third dimension is the number of points per segmentation\n",
        "mask (it is possible to pass multiple points for a single mask), and the last dimension\n",
        "is the x (vertical) and y (horizontal) coordinates of the point. If a different number\n",
        "of points is passed either for each image, or for each mask, the processor will create\n",
        "“PAD” points that will correspond to the (0, 0) coordinate, and the computation of the\n",
        "embedding will be skipped for these points using the labels.\n",
        "\n",
        "\"\"\"\n",
        "# Define the size of your array\n",
        "array_size = 256\n",
        "\n",
        "# Define the size of your grid\n",
        "grid_size = 10\n",
        "\n",
        "# Generate the grid points\n",
        "x = np.linspace(0, array_size-1, grid_size)\n",
        "y = np.linspace(0, array_size-1, grid_size)\n",
        "\n",
        "# Generate a grid of coordinates\n",
        "xv, yv = np.meshgrid(x, y)\n",
        "\n",
        "# Convert the numpy arrays to lists\n",
        "xv_list = xv.tolist()\n",
        "yv_list = yv.tolist()\n",
        "\n",
        "# Combine the x and y coordinates into a list of list of lists\n",
        "input_points = [[[int(x), int(y)] for x, y in zip(x_row, y_row)] for x_row, y_row in zip(xv_list, yv_list)]\n",
        "\n",
        "#We need to reshape our nxn grid to the expected shape of the input_points tensor\n",
        "# (batch_size, point_batch_size, num_points_per_image, 2),\n",
        "# where the last dimension of 2 represents the x and y coordinates of each point.\n",
        "#batch_size: The number of images you're processing at once.\n",
        "#point_batch_size: The number of point sets you have for each image.\n",
        "#num_points_per_image: The number of points in each set.\n",
        "input_points = torch.tensor(input_points).view(1, 1, grid_size*grid_size, 2)"
      ]
    },
    {
      "cell_type": "code",
      "execution_count": null,
      "metadata": {
        "id": "bklL6QTjfmke"
      },
      "outputs": [],
      "source": [
        "print(np.array(input_points).shape)"
      ]
    },
    {
      "cell_type": "code",
      "execution_count": null,
      "metadata": {
        "id": "hh5IldI8fo9d"
      },
      "outputs": [],
      "source": [
        "patches.shape"
      ]
    },
    {
      "cell_type": "code",
      "execution_count": null,
      "metadata": {
        "id": "ge99sIzCfqqZ"
      },
      "outputs": [],
      "source": [
        "# Select a random patch for segmentation\n",
        "\n",
        "# Compute the total number of 256x256 arrays\n",
        "#num_arrays = patches.shape[0] * patches.shape[1]\n",
        "# Select a random index\n",
        "#index = np.random.choice(num_arrays)\n",
        "# Compute the indices in the original array\n",
        "#i = index // patches.shape[1]\n",
        "#j = index % patches.shape[1]\n",
        "\n",
        "#Or pick a specific patch for study.\n",
        "i, j = 1, 2\n",
        "\n",
        "# Selected patch for segmentation\n",
        "random_array = patches[i, j]\n",
        "\n",
        "single_patch = Image.fromarray(random_array)\n",
        "# prepare image for the model\n",
        "\n",
        "# Check and reshape the single_patch to have 3 dimensions\n",
        "if single_patch.mode == 'L':  # If it's a grayscale image\n",
        "    single_patch = np.array(single_patch)\n",
        "    single_patch = np.expand_dims(single_patch, axis=-1)  # Expand dimensions to (height, width, 1)\n",
        "    single_patch = np.concatenate([single_patch] * 3, axis=-1)  # Duplicate the channel to get (height, width, 3)\n",
        "\n",
        "# Convert the array back to PIL Image for the processor\n",
        "single_patch = Image.fromarray(np.uint8(single_patch))\n",
        "\n",
        "\n",
        "#First try without providing any prompt (no bounding box or input_points)\n",
        "#inputs = processor(single_patch, return_tensors=\"pt\")\n",
        "#Now try with bounding boxes. Remember to uncomment.\n",
        "inputs = processor(single_patch, input_points=input_points, return_tensors=\"pt\")\n",
        "\n",
        "# Move the input tensor to the GPU if it's not already there\n",
        "inputs = {k: v.to(device) for k, v in inputs.items()}\n",
        "my_mito_model.eval()\n",
        "\n",
        "\n",
        "# forward pass\n",
        "with torch.no_grad():\n",
        "  outputs = my_mito_model(**inputs, multimask_output=False)\n",
        "\n",
        "# apply sigmoid\n",
        "single_patch_prob = torch.sigmoid(outputs.pred_masks.squeeze(1))\n",
        "# convert soft mask to hard mask\n",
        "single_patch_prob = single_patch_prob.cpu().numpy().squeeze()\n",
        "single_patch_prediction = (single_patch_prob > 0.5).astype(np.uint8)\n",
        "\n",
        "\n",
        "fig, axes = plt.subplots(1, 3, figsize=(15, 5))\n",
        "\n",
        "# Plot the first image on the left\n",
        "axes[0].imshow(np.array(single_patch), cmap='gray')  # Assuming the first image is grayscale\n",
        "axes[0].set_title(\"Image\")\n",
        "\n",
        "# Plot the second image on the right\n",
        "axes[1].imshow(single_patch_prob)  # Assuming the second image is grayscale\n",
        "axes[1].set_title(\"Probability Map\")\n",
        "\n",
        "# Plot the second image on the right\n",
        "axes[2].imshow(single_patch_prediction, cmap='gray')  # Assuming the second image is grayscale\n",
        "axes[2].set_title(\"Prediction\")\n",
        "\n",
        "# Hide axis ticks and labels\n",
        "for ax in axes:\n",
        "    ax.set_xticks([])\n",
        "    ax.set_yticks([])\n",
        "    ax.set_xticklabels([])\n",
        "    ax.set_yticklabels([])\n",
        "\n",
        "# Display the images side by side\n",
        "plt.show()"
      ]
    }
  ],
  "metadata": {
    "accelerator": "GPU",
    "colab": {
      "gpuType": "T4",
      "include_colab_link": true,
      "provenance": []
    },
    "kernelspec": {
      "display_name": "Python 3",
      "name": "python3"
    },
    "language_info": {
      "codemirror_mode": {
        "name": "ipython",
        "version": 3
      },
      "file_extension": ".py",
      "mimetype": "text/x-python",
      "name": "python",
      "nbconvert_exporter": "python",
      "pygments_lexer": "ipython3",
      "version": "3.11.0"
    }
  },
  "nbformat": 4,
  "nbformat_minor": 0
}
